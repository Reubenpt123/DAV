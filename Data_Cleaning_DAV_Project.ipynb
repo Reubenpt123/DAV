{
  "nbformat": 4,
  "nbformat_minor": 0,
  "metadata": {
    "colab": {
      "provenance": [],
      "collapsed_sections": [],
      "authorship_tag": "ABX9TyMVs7y691+xF7CdvOcFkDxE",
      "include_colab_link": true
    },
    "kernelspec": {
      "name": "python3",
      "display_name": "Python 3"
    },
    "language_info": {
      "name": "python"
    }
  },
  "cells": [
    {
      "cell_type": "markdown",
      "metadata": {
        "id": "view-in-github",
        "colab_type": "text"
      },
      "source": [
        "<a href=\"https://colab.research.google.com/github/Reubenpt123/DAV/blob/main/Data_Cleaning_DAV_Project.ipynb\" target=\"_parent\"><img src=\"https://colab.research.google.com/assets/colab-badge.svg\" alt=\"Open In Colab\"/></a>"
      ]
    },
    {
      "cell_type": "markdown",
      "source": [
        "Connect to google drive and import necessary libraries."
      ],
      "metadata": {
        "id": "htON1qO_kUBF"
      }
    },
    {
      "cell_type": "code",
      "execution_count": 13,
      "metadata": {
        "id": "gJUi8l3NuHvs",
        "colab": {
          "base_uri": "https://localhost:8080/"
        },
        "outputId": "4750c409-3b72-42fb-9e61-6f7b5c8389d9"
      },
      "outputs": [
        {
          "output_type": "stream",
          "name": "stdout",
          "text": [
            "Drive already mounted at /content/drive; to attempt to forcibly remount, call drive.mount(\"/content/drive\", force_remount=True).\n"
          ]
        }
      ],
      "source": [
        "from google.colab import drive\n",
        "drive.mount('/content/drive')\n",
        "import pandas as pd\n",
        "import numpy as np\n",
        "import seaborn as sns\n",
        "import matplotlib.pyplot as plt\n",
        "from sklearn.linear_model import LinearRegression\n",
        "from sklearn.preprocessing import PolynomialFeatures\n",
        "from sklearn.tree import DecisionTreeClassifier\n",
        "from sklearn.metrics import accuracy_score, r2_score"
      ]
    },
    {
      "cell_type": "markdown",
      "source": [
        "Change working directory."
      ],
      "metadata": {
        "id": "3S8LN7RxlD-2"
      }
    },
    {
      "cell_type": "code",
      "source": [
        "cd \"/content/drive/My Drive/Colab Notebooks/DAV Project/Cefas_smartbuoy\""
      ],
      "metadata": {
        "colab": {
          "base_uri": "https://localhost:8080/"
        },
        "id": "iHtGdFXijUO0",
        "outputId": "742ba623-4da0-401c-82f8-53f590431dd1"
      },
      "execution_count": 14,
      "outputs": [
        {
          "output_type": "stream",
          "name": "stdout",
          "text": [
            "/content/drive/My Drive/Colab Notebooks/DAV Project/Cefas_smartbuoy\n"
          ]
        }
      ]
    },
    {
      "cell_type": "markdown",
      "source": [
        "Import files from drive.\n"
      ],
      "metadata": {
        "id": "jPIdB2uklIb7"
      }
    },
    {
      "cell_type": "code",
      "source": [
        "ls"
      ],
      "metadata": {
        "colab": {
          "base_uri": "https://localhost:8080/"
        },
        "id": "anLqwOAIlIAk",
        "outputId": "bf64383c-8eb9-409c-bbae-abf3258865d4"
      },
      "execution_count": 15,
      "outputs": [
        {
          "output_type": "stream",
          "name": "stdout",
          "text": [
            "\u001b[0m\u001b[01;34mnew_data\u001b[0m/                WESTGAB2.csv     WESTGAB.csv     WG2O2SAT.csv\n",
            "\u001b[01;34moxygen_saturation_data\u001b[0m/  WESTGAB2PAR.csv  WESTGABPAR.csv\n"
          ]
        }
      ]
    },
    {
      "cell_type": "markdown",
      "source": [
        "Need to deal with encoding errors in order for file to open file. The causes are in the units column and can be ignored. Then we use the dateTime column to be of the date type and use this to index our files."
      ],
      "metadata": {
        "id": "PYR6lmityHZe"
      }
    },
    {
      "cell_type": "code",
      "source": [
        "westgab = pd.read_csv(\"WESTGAB.csv\", parse_dates = [\"dateTime\"], encoding_errors = \"ignore\")\n",
        "westgab_2 = pd.read_csv(\"./new_data/WESTGAB_2.csv\", encoding_errors = \"ignore\")\n",
        "westgab.set_index(\"dateTime\", inplace = True)\n",
        "westgab_2.set_index(\"dateTime\", inplace = True)\n",
        "westgabpar = pd.read_csv(\"WESTGABPAR.csv\", encoding_errors = \"ignore\")\n",
        "westgabpar.set_index(\"dateTime\", inplace = True)"
      ],
      "metadata": {
        "colab": {
          "base_uri": "https://localhost:8080/"
        },
        "id": "TCI1h16try7N",
        "outputId": "d1e2b67b-b436-48f6-b696-8992ba2fd382"
      },
      "execution_count": 16,
      "outputs": [
        {
          "output_type": "stream",
          "name": "stderr",
          "text": [
            "/usr/local/lib/python3.7/dist-packages/IPython/core/interactiveshell.py:3326: DtypeWarning: Columns (12) have mixed types.Specify dtype option on import or set low_memory=False.\n",
            "  exec(code_obj, self.user_global_ns, self.user_ns)\n"
          ]
        }
      ]
    },
    {
      "cell_type": "markdown",
      "source": [
        "Now we extract the data associated with seperate parameters into seperate data frames before re-combining based on date and making sure that we've got our datatypes set."
      ],
      "metadata": {
        "id": "cpn7PtUstWl9"
      }
    },
    {
      "cell_type": "code",
      "source": [
        "westgab_temp = westgab[westgab[\"par\"] == \"TEMP\"]\n",
        "westgab_temp = westgab_temp[\"value\"]\n",
        "westgab_temp.name = \"temp\"\n",
        "westgab_sal = westgab[westgab[\"par\"] == \"SAL\"]\n",
        "westgab_sal = westgab_sal[\"value\"]\n",
        "westgab_sal.name = \"sal\"\n",
        "westgab_ftu = westgab[westgab[\"par\"] == \"FTU\"]\n",
        "westgab_ftu = westgab_ftu[\"value\"]\n",
        "westgab_ftu.name = \"ftu\"\n",
        "westgab_fluors = westgab[westgab[\"par\"] == \"FLUORS\"]\n",
        "westgab_fluors = westgab_fluors[\"value\"]\n",
        "westgab_fluors.name = \"fluors\"\n",
        "westgab_o2 = westgab[westgab[\"par\"] == \"O2CONC\"]\n",
        "westgab_o2 = westgab_o2[\"value\"]\n",
        "westgab_o2.name = \"o2\"\n",
        "\n",
        "westgab_kd = westgab_2[westgab_2[\"par\"] == \"Kd\"]\n",
        "westgab_kd = westgab_kd[\"value\"]\n",
        "westgab_kd.name = \"kd\"\n",
        "westgab_tox = westgab_2[westgab_2[\"par\"] == \"TOXN\"]\n",
        "westgab_tox = westgab_tox[\"value\"]\n",
        "westgab_tox.name = \"tox\"\n",
        "westgab_sil = westgab_2[westgab_2[\"par\"] == \"SILICA\"]\n",
        "westgab_sil = westgab_sil[\"value\"]\n",
        "westgab_sil.name = \"sil\"\n",
        "\n",
        "westgab_par = westgabpar[\"value\"]\n",
        "westgab_par.name = \"par\"\n",
        "\n",
        "\n",
        "merge = pd.merge(westgab_temp, westgab_sal, how = 'outer', left_index = True, right_index = True)\n",
        "merge = pd.merge(merge, westgab_ftu, how = 'outer', left_index = True, right_index = True)\n",
        "merge = pd.merge(merge, westgab_fluors, how = 'outer', left_index = True, right_index = True)\n",
        "merge = pd.merge(merge, westgab_o2, how = 'outer', left_index = True, right_index = True)\n",
        "merge = pd.merge(merge, westgab_kd, how = 'outer', left_index = True, right_index = True)\n",
        "merge = pd.merge(merge, westgab_sil, how = 'outer', left_index = True, right_index = True)\n",
        "merge = pd.merge(merge, westgab_par, how = 'outer', left_index = True, right_index = True)\n",
        "\n",
        "merge = merge.apply(pd.to_numeric, errors = 'raise')\n",
        "merge.to_csv(\"clean_data.csv\", sep = \",\", index = \"False\")"
      ],
      "metadata": {
        "id": "aKM73vqGksvX"
      },
      "execution_count": 17,
      "outputs": []
    },
    {
      "cell_type": "code",
      "source": [
        "df = pd.read_csv(\"clean_data.csv\", parse_dates = [\"dateTime\"])\n",
        "df"
      ],
      "metadata": {
        "colab": {
          "base_uri": "https://localhost:8080/",
          "height": 424
        },
        "id": "UgcFO3wrPXfO",
        "outputId": "37a24d2a-1136-481d-d19a-cf9ab4accffb"
      },
      "execution_count": 18,
      "outputs": [
        {
          "output_type": "execute_result",
          "data": {
            "text/plain": [
              "                  dateTime   temp     sal   ftu  fluors  o2  kd  sil    par\n",
              "0      2002-08-28 13:15:00  18.78  34.691  6.42    0.62 NaN NaN  NaN    NaN\n",
              "1      2002-08-28 13:30:00  18.77  34.666  6.56    0.63 NaN NaN  NaN    NaN\n",
              "2      2002-08-28 13:45:00  18.75  34.653  5.69    0.66 NaN NaN  NaN    NaN\n",
              "3      2002-08-28 14:00:00  18.75  34.635  5.50    0.69 NaN NaN  NaN    NaN\n",
              "4      2002-08-28 14:15:00  18.74  34.628  4.93    0.75 NaN NaN  NaN    NaN\n",
              "...                    ...    ...     ...   ...     ...  ..  ..  ...    ...\n",
              "493326 2016-05-10 04:00:00    NaN     NaN   NaN     NaN NaN NaN  NaN    1.8\n",
              "493327 2016-05-10 04:30:00    NaN     NaN   NaN     NaN NaN NaN  NaN    4.2\n",
              "493328 2016-05-10 05:00:00    NaN     NaN   NaN     NaN NaN NaN  NaN   13.7\n",
              "493329 2016-05-10 05:30:00    NaN     NaN   NaN     NaN NaN NaN  NaN   51.6\n",
              "493330 2016-05-10 06:00:00    NaN     NaN   NaN     NaN NaN NaN  NaN  101.8\n",
              "\n",
              "[493331 rows x 9 columns]"
            ],
            "text/html": [
              "\n",
              "  <div id=\"df-6fa79307-16cc-46f2-9636-5c0c9f288ebd\">\n",
              "    <div class=\"colab-df-container\">\n",
              "      <div>\n",
              "<style scoped>\n",
              "    .dataframe tbody tr th:only-of-type {\n",
              "        vertical-align: middle;\n",
              "    }\n",
              "\n",
              "    .dataframe tbody tr th {\n",
              "        vertical-align: top;\n",
              "    }\n",
              "\n",
              "    .dataframe thead th {\n",
              "        text-align: right;\n",
              "    }\n",
              "</style>\n",
              "<table border=\"1\" class=\"dataframe\">\n",
              "  <thead>\n",
              "    <tr style=\"text-align: right;\">\n",
              "      <th></th>\n",
              "      <th>dateTime</th>\n",
              "      <th>temp</th>\n",
              "      <th>sal</th>\n",
              "      <th>ftu</th>\n",
              "      <th>fluors</th>\n",
              "      <th>o2</th>\n",
              "      <th>kd</th>\n",
              "      <th>sil</th>\n",
              "      <th>par</th>\n",
              "    </tr>\n",
              "  </thead>\n",
              "  <tbody>\n",
              "    <tr>\n",
              "      <th>0</th>\n",
              "      <td>2002-08-28 13:15:00</td>\n",
              "      <td>18.78</td>\n",
              "      <td>34.691</td>\n",
              "      <td>6.42</td>\n",
              "      <td>0.62</td>\n",
              "      <td>NaN</td>\n",
              "      <td>NaN</td>\n",
              "      <td>NaN</td>\n",
              "      <td>NaN</td>\n",
              "    </tr>\n",
              "    <tr>\n",
              "      <th>1</th>\n",
              "      <td>2002-08-28 13:30:00</td>\n",
              "      <td>18.77</td>\n",
              "      <td>34.666</td>\n",
              "      <td>6.56</td>\n",
              "      <td>0.63</td>\n",
              "      <td>NaN</td>\n",
              "      <td>NaN</td>\n",
              "      <td>NaN</td>\n",
              "      <td>NaN</td>\n",
              "    </tr>\n",
              "    <tr>\n",
              "      <th>2</th>\n",
              "      <td>2002-08-28 13:45:00</td>\n",
              "      <td>18.75</td>\n",
              "      <td>34.653</td>\n",
              "      <td>5.69</td>\n",
              "      <td>0.66</td>\n",
              "      <td>NaN</td>\n",
              "      <td>NaN</td>\n",
              "      <td>NaN</td>\n",
              "      <td>NaN</td>\n",
              "    </tr>\n",
              "    <tr>\n",
              "      <th>3</th>\n",
              "      <td>2002-08-28 14:00:00</td>\n",
              "      <td>18.75</td>\n",
              "      <td>34.635</td>\n",
              "      <td>5.50</td>\n",
              "      <td>0.69</td>\n",
              "      <td>NaN</td>\n",
              "      <td>NaN</td>\n",
              "      <td>NaN</td>\n",
              "      <td>NaN</td>\n",
              "    </tr>\n",
              "    <tr>\n",
              "      <th>4</th>\n",
              "      <td>2002-08-28 14:15:00</td>\n",
              "      <td>18.74</td>\n",
              "      <td>34.628</td>\n",
              "      <td>4.93</td>\n",
              "      <td>0.75</td>\n",
              "      <td>NaN</td>\n",
              "      <td>NaN</td>\n",
              "      <td>NaN</td>\n",
              "      <td>NaN</td>\n",
              "    </tr>\n",
              "    <tr>\n",
              "      <th>...</th>\n",
              "      <td>...</td>\n",
              "      <td>...</td>\n",
              "      <td>...</td>\n",
              "      <td>...</td>\n",
              "      <td>...</td>\n",
              "      <td>...</td>\n",
              "      <td>...</td>\n",
              "      <td>...</td>\n",
              "      <td>...</td>\n",
              "    </tr>\n",
              "    <tr>\n",
              "      <th>493326</th>\n",
              "      <td>2016-05-10 04:00:00</td>\n",
              "      <td>NaN</td>\n",
              "      <td>NaN</td>\n",
              "      <td>NaN</td>\n",
              "      <td>NaN</td>\n",
              "      <td>NaN</td>\n",
              "      <td>NaN</td>\n",
              "      <td>NaN</td>\n",
              "      <td>1.8</td>\n",
              "    </tr>\n",
              "    <tr>\n",
              "      <th>493327</th>\n",
              "      <td>2016-05-10 04:30:00</td>\n",
              "      <td>NaN</td>\n",
              "      <td>NaN</td>\n",
              "      <td>NaN</td>\n",
              "      <td>NaN</td>\n",
              "      <td>NaN</td>\n",
              "      <td>NaN</td>\n",
              "      <td>NaN</td>\n",
              "      <td>4.2</td>\n",
              "    </tr>\n",
              "    <tr>\n",
              "      <th>493328</th>\n",
              "      <td>2016-05-10 05:00:00</td>\n",
              "      <td>NaN</td>\n",
              "      <td>NaN</td>\n",
              "      <td>NaN</td>\n",
              "      <td>NaN</td>\n",
              "      <td>NaN</td>\n",
              "      <td>NaN</td>\n",
              "      <td>NaN</td>\n",
              "      <td>13.7</td>\n",
              "    </tr>\n",
              "    <tr>\n",
              "      <th>493329</th>\n",
              "      <td>2016-05-10 05:30:00</td>\n",
              "      <td>NaN</td>\n",
              "      <td>NaN</td>\n",
              "      <td>NaN</td>\n",
              "      <td>NaN</td>\n",
              "      <td>NaN</td>\n",
              "      <td>NaN</td>\n",
              "      <td>NaN</td>\n",
              "      <td>51.6</td>\n",
              "    </tr>\n",
              "    <tr>\n",
              "      <th>493330</th>\n",
              "      <td>2016-05-10 06:00:00</td>\n",
              "      <td>NaN</td>\n",
              "      <td>NaN</td>\n",
              "      <td>NaN</td>\n",
              "      <td>NaN</td>\n",
              "      <td>NaN</td>\n",
              "      <td>NaN</td>\n",
              "      <td>NaN</td>\n",
              "      <td>101.8</td>\n",
              "    </tr>\n",
              "  </tbody>\n",
              "</table>\n",
              "<p>493331 rows × 9 columns</p>\n",
              "</div>\n",
              "      <button class=\"colab-df-convert\" onclick=\"convertToInteractive('df-6fa79307-16cc-46f2-9636-5c0c9f288ebd')\"\n",
              "              title=\"Convert this dataframe to an interactive table.\"\n",
              "              style=\"display:none;\">\n",
              "        \n",
              "  <svg xmlns=\"http://www.w3.org/2000/svg\" height=\"24px\"viewBox=\"0 0 24 24\"\n",
              "       width=\"24px\">\n",
              "    <path d=\"M0 0h24v24H0V0z\" fill=\"none\"/>\n",
              "    <path d=\"M18.56 5.44l.94 2.06.94-2.06 2.06-.94-2.06-.94-.94-2.06-.94 2.06-2.06.94zm-11 1L8.5 8.5l.94-2.06 2.06-.94-2.06-.94L8.5 2.5l-.94 2.06-2.06.94zm10 10l.94 2.06.94-2.06 2.06-.94-2.06-.94-.94-2.06-.94 2.06-2.06.94z\"/><path d=\"M17.41 7.96l-1.37-1.37c-.4-.4-.92-.59-1.43-.59-.52 0-1.04.2-1.43.59L10.3 9.45l-7.72 7.72c-.78.78-.78 2.05 0 2.83L4 21.41c.39.39.9.59 1.41.59.51 0 1.02-.2 1.41-.59l7.78-7.78 2.81-2.81c.8-.78.8-2.07 0-2.86zM5.41 20L4 18.59l7.72-7.72 1.47 1.35L5.41 20z\"/>\n",
              "  </svg>\n",
              "      </button>\n",
              "      \n",
              "  <style>\n",
              "    .colab-df-container {\n",
              "      display:flex;\n",
              "      flex-wrap:wrap;\n",
              "      gap: 12px;\n",
              "    }\n",
              "\n",
              "    .colab-df-convert {\n",
              "      background-color: #E8F0FE;\n",
              "      border: none;\n",
              "      border-radius: 50%;\n",
              "      cursor: pointer;\n",
              "      display: none;\n",
              "      fill: #1967D2;\n",
              "      height: 32px;\n",
              "      padding: 0 0 0 0;\n",
              "      width: 32px;\n",
              "    }\n",
              "\n",
              "    .colab-df-convert:hover {\n",
              "      background-color: #E2EBFA;\n",
              "      box-shadow: 0px 1px 2px rgba(60, 64, 67, 0.3), 0px 1px 3px 1px rgba(60, 64, 67, 0.15);\n",
              "      fill: #174EA6;\n",
              "    }\n",
              "\n",
              "    [theme=dark] .colab-df-convert {\n",
              "      background-color: #3B4455;\n",
              "      fill: #D2E3FC;\n",
              "    }\n",
              "\n",
              "    [theme=dark] .colab-df-convert:hover {\n",
              "      background-color: #434B5C;\n",
              "      box-shadow: 0px 1px 3px 1px rgba(0, 0, 0, 0.15);\n",
              "      filter: drop-shadow(0px 1px 2px rgba(0, 0, 0, 0.3));\n",
              "      fill: #FFFFFF;\n",
              "    }\n",
              "  </style>\n",
              "\n",
              "      <script>\n",
              "        const buttonEl =\n",
              "          document.querySelector('#df-6fa79307-16cc-46f2-9636-5c0c9f288ebd button.colab-df-convert');\n",
              "        buttonEl.style.display =\n",
              "          google.colab.kernel.accessAllowed ? 'block' : 'none';\n",
              "\n",
              "        async function convertToInteractive(key) {\n",
              "          const element = document.querySelector('#df-6fa79307-16cc-46f2-9636-5c0c9f288ebd');\n",
              "          const dataTable =\n",
              "            await google.colab.kernel.invokeFunction('convertToInteractive',\n",
              "                                                     [key], {});\n",
              "          if (!dataTable) return;\n",
              "\n",
              "          const docLinkHtml = 'Like what you see? Visit the ' +\n",
              "            '<a target=\"_blank\" href=https://colab.research.google.com/notebooks/data_table.ipynb>data table notebook</a>'\n",
              "            + ' to learn more about interactive tables.';\n",
              "          element.innerHTML = '';\n",
              "          dataTable['output_type'] = 'display_data';\n",
              "          await google.colab.output.renderOutput(dataTable, element);\n",
              "          const docLink = document.createElement('div');\n",
              "          docLink.innerHTML = docLinkHtml;\n",
              "          element.appendChild(docLink);\n",
              "        }\n",
              "      </script>\n",
              "    </div>\n",
              "  </div>\n",
              "  "
            ]
          },
          "metadata": {},
          "execution_count": 18
        }
      ]
    }
  ]
}
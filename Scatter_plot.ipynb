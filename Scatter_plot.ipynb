{
 "cells": [
  {
   "cell_type": "code",
   "execution_count": null,
   "metadata": {},
   "outputs": [],
   "source": [
    "import matplotlib.pyplot as plt \n",
    "from scipy.stats import gaussian_kde\n",
    "from mpl_toolkits.axes_grid1 import make_axes_locatable\n",
    "import numpy as np\n",
    "import pandas as pd"
   ]
  },
  {
   "cell_type": "code",
   "execution_count": null,
   "metadata": {},
   "outputs": [],
   "source": [
    "# Read data\n",
    "df = pd.read_csv(r'../phase_0_predictions.csv')\n",
    "x = df['fluors']\n",
    "y = df['y_pred']\n",
    "\n",
    "# linear regression of y on x (scipy)\n",
    "\n",
    "import scipy.stats as stats\n",
    "slope, intercept, r_value, p_value, std_err = stats.linregress(x,y)\n",
    "\n",
    "# plot linear regression\n",
    "\n",
    "xy = np.vstack([x,y])\n",
    "z = gaussian_kde(xy)(xy)\n",
    "idx = z.argsort()\n",
    "x, y, z = x[idx], y[idx], z[idx]\n",
    "fig, ax = plt.subplots(figsize=(7,5),dpi=100)\n",
    "maxNum = max(x)\n",
    "minNum = min(x)\n",
    "ax.plot(x, x, color='blue', linewidth=1,label = '1:1 line')#reference line\n",
    "ax.plot(x, intercept + slope*x, 'r', label='fitted line y = {:.2f}x + {:.2f}'.format(slope,intercept))\n",
    "ax.legend()\n",
    "plt.xlim(minNum, maxNum)\n",
    "plt.ylim(minNum, maxNum)\n",
    "#Least squares fit\n",
    "\n",
    "xcord = x\n",
    "ycord = y\n",
    "\n",
    "m = ((xcord*ycord).mean() - xcord.mean()* ycord.mean())/(pow(xcord,2).mean()-pow(xcord.mean(),2))\n",
    "\n",
    "c = ycord.mean() - m*xcord.mean()\n",
    "# Plot\n",
    "y1=m*x+c  \n",
    "scatter=ax.scatter(x,y,marker='o',c=z,edgecolors='none',s=15,label='LST',cmap='Spectral_r')\n",
    "divider=make_axes_locatable(ax)\n",
    "cax = divider.append_axes(\"right\",size=\"3%\",pad=0.1)\n",
    "cbar = fig.colorbar(scatter, cax=cax, label='frequency')\n",
    "cbar = fig.colorbar(scatter,cax=cax,extend='both',aspect=30,fraction=.03,pad=0.01)\n",
    "\n",
    "# plt.savefig('plot82.1.png',dpi=800,bbox_inches='tight',pad_inches=0)\n",
    "plt.show()"
   ]
  },
  {
   "cell_type": "code",
   "execution_count": null,
   "metadata": {},
   "outputs": [],
   "source": [
    "tempBuoy = pd.read_csv(r'../Cefas_smartbuoy/clean_data.csv')\n",
    "tempBuoy.index = pd.to_datetime(tempBuoy['dateTime'])\n",
    "tempBuoy = tempBuoy.drop(columns=['dateTime'])\n",
    "\n",
    "# drop all columns except for temperature\n",
    "tempBuoy = tempBuoy.drop(columns=['sal','ftu','fluors','o2','kd','par_0','par_1','par_2'])\n",
    "tempBuoy\n",
    "\n",
    "# resample to hourly data\n",
    "\n",
    "tempBuoy = tempBuoy.resample('H').mean()\n",
    "tempBuoy.dropna(inplace=True)\n",
    "tempBuoy"
   ]
  },
  {
   "cell_type": "code",
   "execution_count": null,
   "metadata": {},
   "outputs": [],
   "source": [
    "ERA5 = pd.read_csv(r'../OpenData/CMEMS_SST_SSS.csv')\n",
    "ERA5.index = pd.to_datetime(ERA5['Unnamed: 0'])\n",
    "ERA5\n",
    "\n",
    "ERA5.drop(columns=['Unnamed: 0'],inplace=True)\n",
    "ERA5.index = pd.to_datetime(ERA5.index)\n",
    "ERA5\n",
    "\n",
    "# find the overlap data between the buoy and ERA5\n",
    "\n",
    "overlap = pd.concat([tempBuoy,ERA5],axis=1,join='inner')\n",
    "overlap"
   ]
  },
  {
   "cell_type": "code",
   "execution_count": null,
   "metadata": {},
   "outputs": [],
   "source": [
    "# plot temp\tCMEMS_SST in the same plot\n",
    "\n",
    "fig, ax = plt.subplots(figsize=(7,5),dpi=100)\n",
    "ax.plot(overlap.index,overlap['temp'],label='Buoy Temp')\n",
    "ax.plot(overlap.index,overlap['CMEMS_SST'],label='CMEMS SST')\n",
    "ax.legend(loc = 'upper right')\n",
    "ax.set_xlabel('Date')\n",
    "ax.set_ylabel('Temp')\n",
    "plt.show()\n",
    "\n",
    "\n"
   ]
  },
  {
   "cell_type": "code",
   "execution_count": null,
   "metadata": {},
   "outputs": [],
   "source": []
  }
 ],
 "metadata": {
  "kernelspec": {
   "display_name": "Python 3.9.0 ('metocean')",
   "language": "python",
   "name": "python3"
  },
  "language_info": {
   "codemirror_mode": {
    "name": "ipython",
    "version": 3
   },
   "file_extension": ".py",
   "mimetype": "text/x-python",
   "name": "python",
   "nbconvert_exporter": "python",
   "pygments_lexer": "ipython3",
   "version": "3.9.0"
  },
  "orig_nbformat": 4,
  "vscode": {
   "interpreter": {
    "hash": "83c200d69b8413b6d434d9415764823f3d959f965926e73b192313e70ee85759"
   }
  }
 },
 "nbformat": 4,
 "nbformat_minor": 2
}

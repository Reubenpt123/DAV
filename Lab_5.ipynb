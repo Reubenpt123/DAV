{
  "nbformat": 4,
  "nbformat_minor": 0,
  "metadata": {
    "colab": {
      "provenance": [],
      "collapsed_sections": [],
      "authorship_tag": "ABX9TyM13KPiuRHN6z2ampoF6v3f",
      "include_colab_link": true
    },
    "kernelspec": {
      "name": "python3",
      "display_name": "Python 3"
    },
    "language_info": {
      "name": "python"
    }
  },
  "cells": [
    {
      "cell_type": "markdown",
      "metadata": {
        "id": "view-in-github",
        "colab_type": "text"
      },
      "source": [
        "<a href=\"https://colab.research.google.com/github/Reubenpt123/DAAV/blob/main/Lab_5.ipynb\" target=\"_parent\"><img src=\"https://colab.research.google.com/assets/colab-badge.svg\" alt=\"Open In Colab\"/></a>"
      ]
    },
    {
      "cell_type": "code",
      "execution_count": null,
      "metadata": {
        "id": "gJUi8l3NuHvs",
        "colab": {
          "base_uri": "https://localhost:8080/"
        },
        "outputId": "c94808fe-c4d9-487b-8a9c-0109cadc75da"
      },
      "outputs": [
        {
          "output_type": "stream",
          "name": "stdout",
          "text": [
            "Drive already mounted at /content/drive; to attempt to forcibly remount, call drive.mount(\"/content/drive\", force_remount=True).\n"
          ]
        }
      ],
      "source": [
        "from google.colab import drive\n",
        "drive.mount('/content/drive')\n",
        "import pandas as pd\n",
        "import numpy as np\n",
        "import seaborn as sns\n",
        "import matplotlib.pyplot as plt\n",
        "from sklearn.linear_model import LinearRegression\n",
        "from sklearn.preprocessing import PolynomialFeatures\n",
        "from sklearn.tree import DecisionTreeClassifier\n",
        "from sklearn.metrics import accuracy_score, r2_score"
      ]
    },
    {
      "cell_type": "code",
      "source": [
        "data = pd.read_csv(\"/content/drive/My Drive/Colab Notebooks/Lab 5/phytoplankton.csv\")\n",
        "#data.iloc[0].to_list()"
      ],
      "metadata": {
        "id": "H9RPMtm3un2_"
      },
      "execution_count": null,
      "outputs": []
    },
    {
      "cell_type": "code",
      "source": [
        "df = pd.read_csv(\"/content/drive/My Drive/Colab Notebooks/Lab 5/phytoplankton.csv\")\n",
        "df.drop(columns = [\"Unnamed: 14\", 'Unnamed: 15'], inplace = True) #removing excess columns from end of dataframe\n",
        "new_headers = ['sample_number', # renaming columns with lower case and no spaces etc\n",
        "              'production_area',\n",
        "              'bed_id',\n",
        "              'local_authority',\n",
        "              'grid_reference',\n",
        "              'sampling_point',\n",
        "              'date',\n",
        "              'alexandrium',\n",
        "              'dinophysiaceae',\n",
        "              'prorocentrum_lima',\n",
        "              'pseudo-nitzschia',\n",
        "              'ligulodinium_polyedrum',\n",
        "              'protoceratium_reticulatum',\n",
        "              'prorocentrum_cordatum']\n",
        "df = df[1:829] #re-assigning dataframe to itself but from row 1 (2nd) up to row 828\n",
        "df.columns = new_headers #assigning the headers as headers\n",
        "df.replace(to_replace = \"ND\", value = 0, inplace = True)\n",
        "df.iloc[:, 7:] = df.iloc[:, 7:].apply(pd.to_numeric, errors = 'coerce') #change entries in columns 7 onwards, any strings become NaN\n",
        "df.iloc[:, 7:] = df.iloc[:, 7:].fillna(value = -1) #marking these NaN's with a -1\n",
        "#print(df.to_markdown())\n",
        "#df"
      ],
      "metadata": {
        "id": "7OuWuHsvv-vR"
      },
      "execution_count": null,
      "outputs": []
    },
    {
      "cell_type": "code",
      "source": [
        "thresholds = {\"alexandrium\" : 40, \"dinophysiaceae\" : 100, \"prorocentrum_lima\" : 100, \"pseudo-nitzschia\" : 150000}\n",
        "df[\"threshold_reached\"] = [0 for n in range(len(df[\"sample_number\"]))]\n",
        "for n in range(1,len(df[\"sample_number\"])+1):\n",
        "  if df.loc[n, \"alexandrium\"] > thresholds[\"alexandrium\"]:\n",
        "    df.loc[n, \"threshold_reached\"] = 1\n",
        "  elif df.loc[n, \"dinophysiaceae\"] > thresholds[\"dinophysiaceae\"]:\n",
        "    df.loc[n, \"threshold_reached\"] = 1\n",
        "  elif df.loc[n, \"prorocentrum_lima\"] > thresholds[\"prorocentrum_lima\"]:\n",
        "    df.loc[n, \"threshold_reached\"] = 1\n",
        "  elif df.loc[n, \"pseudo-nitzschia\"] > thresholds[\"pseudo-nitzschia\"]:\n",
        "    df.loc[n, \"threshold_reached\"] = 1\n",
        "#print(df.to_markdown())"
      ],
      "metadata": {
        "id": "HGIHAC2s0EAB"
      },
      "execution_count": null,
      "outputs": []
    }
  ]
}
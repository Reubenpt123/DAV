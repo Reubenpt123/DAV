{
  "nbformat": 4,
  "nbformat_minor": 0,
  "metadata": {
    "colab": {
      "provenance": [],
      "collapsed_sections": [],
      "authorship_tag": "ABX9TyM72R76s9Be/R4RQoeGitWn",
      "include_colab_link": true
    },
    "kernelspec": {
      "name": "python3",
      "display_name": "Python 3"
    },
    "language_info": {
      "name": "python"
    }
  },
  "cells": [
    {
      "cell_type": "markdown",
      "metadata": {
        "id": "view-in-github",
        "colab_type": "text"
      },
      "source": [
        "<a href=\"https://colab.research.google.com/github/Reubenpt123/DAV/blob/main/Data_Cleaning_DAV_Assessment.ipynb\" target=\"_parent\"><img src=\"https://colab.research.google.com/assets/colab-badge.svg\" alt=\"Open In Colab\"/></a>"
      ]
    },
    {
      "cell_type": "markdown",
      "source": [
        "Connect to google drive and import necessary libraries."
      ],
      "metadata": {
        "id": "htON1qO_kUBF"
      }
    },
    {
      "cell_type": "code",
      "execution_count": 75,
      "metadata": {
        "id": "gJUi8l3NuHvs",
        "colab": {
          "base_uri": "https://localhost:8080/"
        },
        "outputId": "5c052c1e-ab1a-4e93-9ece-449d22f54a9f"
      },
      "outputs": [
        {
          "output_type": "stream",
          "name": "stdout",
          "text": [
            "Drive already mounted at /content/drive; to attempt to forcibly remount, call drive.mount(\"/content/drive\", force_remount=True).\n"
          ]
        }
      ],
      "source": [
        "from google.colab import drive\n",
        "drive.mount('/content/drive')\n",
        "import pandas as pd\n",
        "import numpy as np\n",
        "import matplotlib.pyplot as plt"
      ]
    },
    {
      "cell_type": "markdown",
      "source": [
        "Change working directory."
      ],
      "metadata": {
        "id": "3S8LN7RxlD-2"
      }
    },
    {
      "cell_type": "code",
      "source": [
        "cd \"/content/drive/My Drive/Colab Notebooks/DAV Assessment/Cefas_smartbuoy\""
      ],
      "metadata": {
        "colab": {
          "base_uri": "https://localhost:8080/"
        },
        "id": "iHtGdFXijUO0",
        "outputId": "7fcb0499-7098-4197-afce-3d7ed3d35777"
      },
      "execution_count": 76,
      "outputs": [
        {
          "output_type": "stream",
          "name": "stdout",
          "text": [
            "/content/drive/My Drive/Colab Notebooks/DAV Project/Cefas_smartbuoy\n"
          ]
        }
      ]
    },
    {
      "cell_type": "markdown",
      "source": [
        "See current files in directory."
      ],
      "metadata": {
        "id": "jPIdB2uklIb7"
      }
    },
    {
      "cell_type": "code",
      "source": [
        "ls"
      ],
      "metadata": {
        "colab": {
          "base_uri": "https://localhost:8080/"
        },
        "id": "anLqwOAIlIAk",
        "outputId": "c1f2a7d0-b201-4f07-cd87-7a67e8c92fc9"
      },
      "execution_count": 77,
      "outputs": [
        {
          "output_type": "stream",
          "name": "stdout",
          "text": [
            "clean_data2.csv          WESTGAB_2.csv    WESTGAB.csv\n",
            "\u001b[0m\u001b[01;34moxygen_saturation_data\u001b[0m/  WESTGAB2.csv     WESTGABPAR.csv\n",
            "WESTGAB2_2.csv           WESTGAB2PAR.csv  WG2O2SAT.csv\n"
          ]
        }
      ]
    },
    {
      "cell_type": "markdown",
      "source": [
        "Need to deal with encoding errors in order for file to open file. The causes are in the units column and can be ignored. Then we use the dateTime column to be of the date type and use this to index our files."
      ],
      "metadata": {
        "id": "PYR6lmityHZe"
      }
    },
    {
      "cell_type": "code",
      "source": [
        "westgab = pd.read_csv(\"WESTGAB.csv\", parse_dates = [\"dateTime\"], encoding_errors = \"ignore\")\n",
        "westgab.set_index(\"dateTime\", inplace = True)\n",
        "westgab_2 = pd.read_csv(\"WESTGAB_2.csv\", parse_dates = [\"dateTime\"], encoding_errors = \"ignore\")\n",
        "westgab_2.set_index(\"dateTime\", inplace = True)\n",
        "westgabpar = pd.read_csv(\"WESTGABPAR.csv\", parse_dates = [\"dateTime\"], encoding_errors = \"ignore\")\n",
        "westgabpar.set_index(\"dateTime\", inplace = True)"
      ],
      "metadata": {
        "id": "TCI1h16try7N"
      },
      "execution_count": 78,
      "outputs": []
    },
    {
      "cell_type": "markdown",
      "source": [
        "Now we extract the data associated with seperate parameters into seperate data frames before re-combining based on date. Then we make sure that our entries are numbers before saving to a csv."
      ],
      "metadata": {
        "id": "cpn7PtUstWl9"
      }
    },
    {
      "cell_type": "code",
      "source": [
        "westgab_temp = westgab[westgab[\"par\"] == \"TEMP\"]\n",
        "westgab_temp = westgab_temp[\"value\"]\n",
        "westgab_temp.name = \"temp\"\n",
        "westgab_sal = westgab[westgab[\"par\"] == \"SAL\"]\n",
        "westgab_sal = westgab_sal[\"value\"]\n",
        "westgab_sal.name = \"sal\"\n",
        "westgab_ftu = westgab[westgab[\"par\"] == \"FTU\"]\n",
        "westgab_ftu = westgab_ftu[\"value\"]\n",
        "westgab_ftu.name = \"ftu\"\n",
        "westgab_fluors = westgab[westgab[\"par\"] == \"FLUORS\"]\n",
        "westgab_fluors = westgab_fluors[\"value\"]\n",
        "westgab_fluors.name = \"fluors\"\n",
        "westgab_o2 = westgab[westgab[\"par\"] == \"O2CONC\"]\n",
        "westgab_o2 = westgab_o2[\"value\"]\n",
        "westgab_o2.name = \"o2\"\n",
        "\n",
        "westgab_kd = westgab_2[westgab_2[\"par\"] == \"Kd\"]\n",
        "westgab_kd = westgab_kd[\"value\"]\n",
        "westgab_kd.name = \"kd\"\n",
        "westgab_tox = westgab_2[westgab_2[\"par\"] == \"TOXN\"]\n",
        "westgab_tox = westgab_tox[\"value\"]\n",
        "westgab_tox.name = \"tox\"\n",
        "westgab_sil = westgab_2[westgab_2[\"par\"] == \"SILICA\"]\n",
        "westgab_sil = westgab_sil[\"value\"]\n",
        "westgab_sil.name = \"sil\"\n",
        "\n",
        "westgab_par = westgabpar[\"value\"]\n",
        "westgab_par.name = \"par\"\n",
        "\n",
        "merge = pd.merge(westgab_temp, westgab_sal, how = 'outer', left_index = True, right_index = True)\n",
        "merge = pd.merge(merge, westgab_ftu, how = 'outer', left_index = True, right_index = True)\n",
        "merge = pd.merge(merge, westgab_fluors, how = 'outer', left_index = True, right_index = True)\n",
        "merge = pd.merge(merge, westgab_o2, how = 'outer', left_index = True, right_index = True)\n",
        "merge = pd.merge(merge, westgab_kd, how = 'outer', left_index = True, right_index = True)\n",
        "merge = pd.merge(merge, westgab_sil, how = 'outer', left_index = True, right_index = True)\n",
        "merge = pd.merge(merge, westgab_par, how = 'outer', left_index = True, right_index = True)\n",
        "\n",
        "merge = merge.apply(pd.to_numeric, errors = 'raise')\n",
        "merge.to_csv(\"clean_data1.csv\", sep = \",\", index = \"False\")"
      ],
      "metadata": {
        "id": "aKM73vqGksvX"
      },
      "execution_count": 79,
      "outputs": []
    },
    {
      "cell_type": "markdown",
      "source": [
        "We now do the exact same thing but for WESTGAB2."
      ],
      "metadata": {
        "id": "ybfGt_FuxyzW"
      }
    },
    {
      "cell_type": "code",
      "source": [
        "westgab2 = pd.read_csv(\"WESTGAB2.csv\", parse_dates = [\"dateTime\"], encoding_errors = \"ignore\")\n",
        "westgab2.set_index(\"dateTime\", inplace = True)\n",
        "westgab2_2 = pd.read_csv(\"WESTGAB2_2.csv\", parse_dates = [\"dateTime\"], encoding_errors = \"ignore\")\n",
        "westgab2_2.set_index(\"dateTime\", inplace = True)\n",
        "westgab2par = pd.read_csv(\"WESTGAB2PAR.csv\", parse_dates = [\"dateTime\"], encoding_errors = \"ignore\")\n",
        "westgab2par.set_index(\"dateTime\", inplace = True)"
      ],
      "metadata": {
        "id": "APVKdqsyx7le"
      },
      "execution_count": 80,
      "outputs": []
    },
    {
      "cell_type": "code",
      "source": [
        "westgab2_temp = westgab2[westgab2[\"par\"] == \"TEMP\"]\n",
        "westgab2_temp = westgab2_temp[\"value\"]\n",
        "westgab2_temp.name = \"temp\"\n",
        "westgab2_sal = westgab2[westgab2[\"par\"] == \"SAL\"]\n",
        "westgab2_sal = westgab2_sal[\"value\"]\n",
        "westgab2_sal.name = \"sal\"\n",
        "westgab2_ftu = westgab2[westgab2[\"par\"] == \"FTU\"]\n",
        "westgab2_ftu = westgab2_ftu[\"value\"]\n",
        "westgab2_ftu.name = \"ftu\"\n",
        "westgab2_fluors = westgab2[westgab2[\"par\"] == \"FLUORS\"]\n",
        "westgab2_fluors = westgab2_fluors[\"value\"]\n",
        "westgab2_fluors.name = \"fluors\"\n",
        "westgab2_o2 = westgab2[westgab2[\"par\"] == \"O2CONC\"]\n",
        "westgab2_o2 = westgab2_o2[\"value\"]\n",
        "westgab2_o2.name = \"o2\"\n",
        "\n",
        "westgab2_kd = westgab2_2[westgab2_2[\"par\"] == \"Kd\"]\n",
        "westgab2_kd = westgab2_kd[\"value\"]\n",
        "westgab2_kd.name = \"kd\"\n",
        "westgab2_tox = westgab2_2[westgab2_2[\"par\"] == \"TOXN\"]\n",
        "westgab2_tox = westgab2_tox[\"value\"]\n",
        "westgab2_tox.name = \"tox\"\n",
        "westgab2_sil = westgab2_2[westgab2_2[\"par\"] == \"SILICA\"]\n",
        "westgab2_sil = westgab2_sil[\"value\"]\n",
        "westgab2_sil.name = \"sil\"\n",
        "\n",
        "westgab2_par = westgab2par[\"value\"]\n",
        "westgab2_par.name = \"par\"\n",
        "\n",
        "merge2 = pd.merge(westgab2_temp, westgab2_sal, how = 'outer', left_index = True, right_index = True)\n",
        "merge2 = pd.merge(merge2, westgab2_ftu, how = 'outer', left_index = True, right_index = True)\n",
        "merge2 = pd.merge(merge2, westgab2_fluors, how = 'outer', left_index = True, right_index = True)\n",
        "merge2 = pd.merge(merge2, westgab2_o2, how = 'outer', left_index = True, right_index = True)\n",
        "merge2 = pd.merge(merge2, westgab2_kd, how = 'outer', left_index = True, right_index = True)\n",
        "merge2 = pd.merge(merge2, westgab2_sil, how = 'outer', left_index = True, right_index = True)\n",
        "merge2 = pd.merge(merge2, westgab2_par, how = 'outer', left_index = True, right_index = True)\n",
        "\n",
        "merge2 = merge2.apply(pd.to_numeric, errors = 'raise')\n",
        "merge2.to_csv(\"clean_data2.csv\", sep = \",\", index = \"False\")"
      ],
      "metadata": {
        "id": "bnpXMOzGy8A9"
      },
      "execution_count": 81,
      "outputs": []
    },
    {
      "cell_type": "code",
      "source": [
        "df1 = pd.read_csv(\"clean_data1.csv\", parse_dates = [\"dateTime\"])\n",
        "df2 = pd.read_csv(\"clean_data2.csv\", parse_dates = [\"dateTime\"])\n",
        "df3 = pd.concat([df1, df2], axis = 0)\n",
        "df3.to_csv(\"clean_data.csv\", sep = \",\", index = \"False\")\n"
      ],
      "metadata": {
        "id": "RdDSIFkxzsI4"
      },
      "execution_count": 82,
      "outputs": []
    },
    {
      "cell_type": "code",
      "source": [
        "df3"
      ],
      "metadata": {
        "colab": {
          "base_uri": "https://localhost:8080/",
          "height": 424
        },
        "id": "QFwQuLmeFeRx",
        "outputId": "911501ea-12da-4c0c-a7a4-dbb8c8042cc3"
      },
      "execution_count": 84,
      "outputs": [
        {
          "output_type": "execute_result",
          "data": {
            "text/plain": [
              "                  dateTime   temp     sal   ftu  fluors  o2     kd  sil    par\n",
              "0      2002-08-28 13:15:00  18.78  34.691  6.42    0.62 NaN  0.641  NaN  226.2\n",
              "1      2002-08-28 13:15:00  18.78  34.691  6.42    0.62 NaN  0.641  NaN  429.3\n",
              "2      2002-08-28 13:30:00  18.77  34.666  6.56    0.63 NaN  0.688  NaN  475.9\n",
              "3      2002-08-28 13:30:00  18.77  34.666  6.56    0.63 NaN  0.688  NaN  239.1\n",
              "4      2002-08-28 13:45:00  18.75  34.653  5.69    0.66 NaN  0.682  NaN  262.4\n",
              "...                    ...    ...     ...   ...     ...  ..    ...  ...    ...\n",
              "120286 2019-12-07 13:30:00    NaN     NaN   NaN     NaN NaN  0.452  NaN    NaN\n",
              "120287 2019-12-07 14:00:00    NaN     NaN   NaN     NaN NaN  0.429  NaN    NaN\n",
              "120288 2019-12-07 14:30:00    NaN     NaN   NaN     NaN NaN  0.422  NaN    NaN\n",
              "120289 2019-12-07 15:00:00    NaN     NaN   NaN     NaN NaN  0.344  NaN    NaN\n",
              "120290 2019-12-07 15:30:00    NaN     NaN   NaN     NaN NaN  0.273  NaN    NaN\n",
              "\n",
              "[500348 rows x 9 columns]"
            ],
            "text/html": [
              "\n",
              "  <div id=\"df-63a7021f-2bb4-40a7-adfe-9f33209e18b0\">\n",
              "    <div class=\"colab-df-container\">\n",
              "      <div>\n",
              "<style scoped>\n",
              "    .dataframe tbody tr th:only-of-type {\n",
              "        vertical-align: middle;\n",
              "    }\n",
              "\n",
              "    .dataframe tbody tr th {\n",
              "        vertical-align: top;\n",
              "    }\n",
              "\n",
              "    .dataframe thead th {\n",
              "        text-align: right;\n",
              "    }\n",
              "</style>\n",
              "<table border=\"1\" class=\"dataframe\">\n",
              "  <thead>\n",
              "    <tr style=\"text-align: right;\">\n",
              "      <th></th>\n",
              "      <th>dateTime</th>\n",
              "      <th>temp</th>\n",
              "      <th>sal</th>\n",
              "      <th>ftu</th>\n",
              "      <th>fluors</th>\n",
              "      <th>o2</th>\n",
              "      <th>kd</th>\n",
              "      <th>sil</th>\n",
              "      <th>par</th>\n",
              "    </tr>\n",
              "  </thead>\n",
              "  <tbody>\n",
              "    <tr>\n",
              "      <th>0</th>\n",
              "      <td>2002-08-28 13:15:00</td>\n",
              "      <td>18.78</td>\n",
              "      <td>34.691</td>\n",
              "      <td>6.42</td>\n",
              "      <td>0.62</td>\n",
              "      <td>NaN</td>\n",
              "      <td>0.641</td>\n",
              "      <td>NaN</td>\n",
              "      <td>226.2</td>\n",
              "    </tr>\n",
              "    <tr>\n",
              "      <th>1</th>\n",
              "      <td>2002-08-28 13:15:00</td>\n",
              "      <td>18.78</td>\n",
              "      <td>34.691</td>\n",
              "      <td>6.42</td>\n",
              "      <td>0.62</td>\n",
              "      <td>NaN</td>\n",
              "      <td>0.641</td>\n",
              "      <td>NaN</td>\n",
              "      <td>429.3</td>\n",
              "    </tr>\n",
              "    <tr>\n",
              "      <th>2</th>\n",
              "      <td>2002-08-28 13:30:00</td>\n",
              "      <td>18.77</td>\n",
              "      <td>34.666</td>\n",
              "      <td>6.56</td>\n",
              "      <td>0.63</td>\n",
              "      <td>NaN</td>\n",
              "      <td>0.688</td>\n",
              "      <td>NaN</td>\n",
              "      <td>475.9</td>\n",
              "    </tr>\n",
              "    <tr>\n",
              "      <th>3</th>\n",
              "      <td>2002-08-28 13:30:00</td>\n",
              "      <td>18.77</td>\n",
              "      <td>34.666</td>\n",
              "      <td>6.56</td>\n",
              "      <td>0.63</td>\n",
              "      <td>NaN</td>\n",
              "      <td>0.688</td>\n",
              "      <td>NaN</td>\n",
              "      <td>239.1</td>\n",
              "    </tr>\n",
              "    <tr>\n",
              "      <th>4</th>\n",
              "      <td>2002-08-28 13:45:00</td>\n",
              "      <td>18.75</td>\n",
              "      <td>34.653</td>\n",
              "      <td>5.69</td>\n",
              "      <td>0.66</td>\n",
              "      <td>NaN</td>\n",
              "      <td>0.682</td>\n",
              "      <td>NaN</td>\n",
              "      <td>262.4</td>\n",
              "    </tr>\n",
              "    <tr>\n",
              "      <th>...</th>\n",
              "      <td>...</td>\n",
              "      <td>...</td>\n",
              "      <td>...</td>\n",
              "      <td>...</td>\n",
              "      <td>...</td>\n",
              "      <td>...</td>\n",
              "      <td>...</td>\n",
              "      <td>...</td>\n",
              "      <td>...</td>\n",
              "    </tr>\n",
              "    <tr>\n",
              "      <th>120286</th>\n",
              "      <td>2019-12-07 13:30:00</td>\n",
              "      <td>NaN</td>\n",
              "      <td>NaN</td>\n",
              "      <td>NaN</td>\n",
              "      <td>NaN</td>\n",
              "      <td>NaN</td>\n",
              "      <td>0.452</td>\n",
              "      <td>NaN</td>\n",
              "      <td>NaN</td>\n",
              "    </tr>\n",
              "    <tr>\n",
              "      <th>120287</th>\n",
              "      <td>2019-12-07 14:00:00</td>\n",
              "      <td>NaN</td>\n",
              "      <td>NaN</td>\n",
              "      <td>NaN</td>\n",
              "      <td>NaN</td>\n",
              "      <td>NaN</td>\n",
              "      <td>0.429</td>\n",
              "      <td>NaN</td>\n",
              "      <td>NaN</td>\n",
              "    </tr>\n",
              "    <tr>\n",
              "      <th>120288</th>\n",
              "      <td>2019-12-07 14:30:00</td>\n",
              "      <td>NaN</td>\n",
              "      <td>NaN</td>\n",
              "      <td>NaN</td>\n",
              "      <td>NaN</td>\n",
              "      <td>NaN</td>\n",
              "      <td>0.422</td>\n",
              "      <td>NaN</td>\n",
              "      <td>NaN</td>\n",
              "    </tr>\n",
              "    <tr>\n",
              "      <th>120289</th>\n",
              "      <td>2019-12-07 15:00:00</td>\n",
              "      <td>NaN</td>\n",
              "      <td>NaN</td>\n",
              "      <td>NaN</td>\n",
              "      <td>NaN</td>\n",
              "      <td>NaN</td>\n",
              "      <td>0.344</td>\n",
              "      <td>NaN</td>\n",
              "      <td>NaN</td>\n",
              "    </tr>\n",
              "    <tr>\n",
              "      <th>120290</th>\n",
              "      <td>2019-12-07 15:30:00</td>\n",
              "      <td>NaN</td>\n",
              "      <td>NaN</td>\n",
              "      <td>NaN</td>\n",
              "      <td>NaN</td>\n",
              "      <td>NaN</td>\n",
              "      <td>0.273</td>\n",
              "      <td>NaN</td>\n",
              "      <td>NaN</td>\n",
              "    </tr>\n",
              "  </tbody>\n",
              "</table>\n",
              "<p>500348 rows × 9 columns</p>\n",
              "</div>\n",
              "      <button class=\"colab-df-convert\" onclick=\"convertToInteractive('df-63a7021f-2bb4-40a7-adfe-9f33209e18b0')\"\n",
              "              title=\"Convert this dataframe to an interactive table.\"\n",
              "              style=\"display:none;\">\n",
              "        \n",
              "  <svg xmlns=\"http://www.w3.org/2000/svg\" height=\"24px\"viewBox=\"0 0 24 24\"\n",
              "       width=\"24px\">\n",
              "    <path d=\"M0 0h24v24H0V0z\" fill=\"none\"/>\n",
              "    <path d=\"M18.56 5.44l.94 2.06.94-2.06 2.06-.94-2.06-.94-.94-2.06-.94 2.06-2.06.94zm-11 1L8.5 8.5l.94-2.06 2.06-.94-2.06-.94L8.5 2.5l-.94 2.06-2.06.94zm10 10l.94 2.06.94-2.06 2.06-.94-2.06-.94-.94-2.06-.94 2.06-2.06.94z\"/><path d=\"M17.41 7.96l-1.37-1.37c-.4-.4-.92-.59-1.43-.59-.52 0-1.04.2-1.43.59L10.3 9.45l-7.72 7.72c-.78.78-.78 2.05 0 2.83L4 21.41c.39.39.9.59 1.41.59.51 0 1.02-.2 1.41-.59l7.78-7.78 2.81-2.81c.8-.78.8-2.07 0-2.86zM5.41 20L4 18.59l7.72-7.72 1.47 1.35L5.41 20z\"/>\n",
              "  </svg>\n",
              "      </button>\n",
              "      \n",
              "  <style>\n",
              "    .colab-df-container {\n",
              "      display:flex;\n",
              "      flex-wrap:wrap;\n",
              "      gap: 12px;\n",
              "    }\n",
              "\n",
              "    .colab-df-convert {\n",
              "      background-color: #E8F0FE;\n",
              "      border: none;\n",
              "      border-radius: 50%;\n",
              "      cursor: pointer;\n",
              "      display: none;\n",
              "      fill: #1967D2;\n",
              "      height: 32px;\n",
              "      padding: 0 0 0 0;\n",
              "      width: 32px;\n",
              "    }\n",
              "\n",
              "    .colab-df-convert:hover {\n",
              "      background-color: #E2EBFA;\n",
              "      box-shadow: 0px 1px 2px rgba(60, 64, 67, 0.3), 0px 1px 3px 1px rgba(60, 64, 67, 0.15);\n",
              "      fill: #174EA6;\n",
              "    }\n",
              "\n",
              "    [theme=dark] .colab-df-convert {\n",
              "      background-color: #3B4455;\n",
              "      fill: #D2E3FC;\n",
              "    }\n",
              "\n",
              "    [theme=dark] .colab-df-convert:hover {\n",
              "      background-color: #434B5C;\n",
              "      box-shadow: 0px 1px 3px 1px rgba(0, 0, 0, 0.15);\n",
              "      filter: drop-shadow(0px 1px 2px rgba(0, 0, 0, 0.3));\n",
              "      fill: #FFFFFF;\n",
              "    }\n",
              "  </style>\n",
              "\n",
              "      <script>\n",
              "        const buttonEl =\n",
              "          document.querySelector('#df-63a7021f-2bb4-40a7-adfe-9f33209e18b0 button.colab-df-convert');\n",
              "        buttonEl.style.display =\n",
              "          google.colab.kernel.accessAllowed ? 'block' : 'none';\n",
              "\n",
              "        async function convertToInteractive(key) {\n",
              "          const element = document.querySelector('#df-63a7021f-2bb4-40a7-adfe-9f33209e18b0');\n",
              "          const dataTable =\n",
              "            await google.colab.kernel.invokeFunction('convertToInteractive',\n",
              "                                                     [key], {});\n",
              "          if (!dataTable) return;\n",
              "\n",
              "          const docLinkHtml = 'Like what you see? Visit the ' +\n",
              "            '<a target=\"_blank\" href=https://colab.research.google.com/notebooks/data_table.ipynb>data table notebook</a>'\n",
              "            + ' to learn more about interactive tables.';\n",
              "          element.innerHTML = '';\n",
              "          dataTable['output_type'] = 'display_data';\n",
              "          await google.colab.output.renderOutput(dataTable, element);\n",
              "          const docLink = document.createElement('div');\n",
              "          docLink.innerHTML = docLinkHtml;\n",
              "          element.appendChild(docLink);\n",
              "        }\n",
              "      </script>\n",
              "    </div>\n",
              "  </div>\n",
              "  "
            ]
          },
          "metadata": {},
          "execution_count": 84
        }
      ]
    }
  ]
}
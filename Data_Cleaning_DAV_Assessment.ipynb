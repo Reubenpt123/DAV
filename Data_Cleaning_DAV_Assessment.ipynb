{
  "cells": [
    {
      "cell_type": "markdown",
      "metadata": {
        "colab_type": "text",
        "id": "view-in-github"
      },
      "source": [
        "<a href=\"https://colab.research.google.com/github/Reubenpt123/DAV/blob/main/Data_Cleaning_DAV_Assessment.ipynb\" target=\"_parent\"><img src=\"https://colab.research.google.com/assets/colab-badge.svg\" alt=\"Open In Colab\"/></a>"
      ]
    },
    {
      "cell_type": "markdown",
      "metadata": {
        "id": "htON1qO_kUBF"
      },
      "source": [
        "Connect to google drive and import necessary libraries."
      ]
    },
    {
      "cell_type": "code",
      "execution_count": 4,
      "metadata": {
        "colab": {
          "base_uri": "https://localhost:8080/"
        },
        "id": "gJUi8l3NuHvs",
        "outputId": "137420e1-9d16-4a9e-ee5b-8266781cd565"
      },
      "outputs": [],
      "source": [
        "#from google.colab import drive\n",
        "#drive.mount('/content/drive')\n",
        "import pandas as pd\n",
        "import numpy as np\n",
        "import matplotlib.pyplot as plt"
      ]
    },
    {
      "cell_type": "markdown",
      "metadata": {
        "id": "3S8LN7RxlD-2"
      },
      "source": [
        "Change working directory."
      ]
    },
    {
      "cell_type": "code",
      "execution_count": 5,
      "metadata": {
        "colab": {
          "base_uri": "https://localhost:8080/"
        },
        "id": "iHtGdFXijUO0",
        "outputId": "3421c666-1c44-4c76-ae6a-fa30d39d209e"
      },
      "outputs": [
        {
          "name": "stdout",
          "output_type": "stream",
          "text": [
            "d:\\My Drive\\Colab Notebooks\\DAV Assessment\\cefas_smartBuoy\n"
          ]
        }
      ],
      "source": [
        "cd d:\\My Drive\\Colab Notebooks\\DAV Assessment\\cefas_smartBuoy"
      ]
    },
    {
      "cell_type": "markdown",
      "metadata": {
        "id": "jPIdB2uklIb7"
      },
      "source": [
        "See current files in directory."
      ]
    },
    {
      "cell_type": "code",
      "execution_count": 6,
      "metadata": {
        "colab": {
          "base_uri": "https://localhost:8080/"
        },
        "id": "anLqwOAIlIAk",
        "outputId": "93f68b9e-7ca4-46ce-c18c-0bf2ff96bb8e"
      },
      "outputs": [
        {
          "name": "stdout",
          "output_type": "stream",
          "text": [
            " Volume in drive D is Google Drive\n",
            " Volume Serial Number is 1983-1116\n",
            "\n",
            " Directory of d:\\My Drive\\Colab Notebooks\\DAV Assessment\\cefas_smartBuoy\n",
            "\n",
            "30/11/2022  09:55    <DIR>          .\n",
            "30/11/2022  10:05    <DIR>          ..\n",
            "22/11/2022  15:42            48,902 02_month.png\n",
            "22/11/2022  15:41            35,725 02conc.png\n",
            "22/11/2022  12:51    <DIR>          Annual_Figures\n",
            "16/11/2022  11:59        17,827,210 clean_data.csv\n",
            "16/11/2022  11:58        14,231,853 clean_data1.csv\n",
            "16/11/2022  11:58         3,668,624 clean_data2.csv\n",
            "28/11/2022  16:52         9,737,336 final_model.h5\n",
            "22/11/2022  15:48            31,639 fluors.png\n",
            "22/11/2022  15:49            62,242 fluors_month.png\n",
            "07/11/2022  16:03         4,303,964 fluors_time.png\n",
            "07/11/2022  15:58         7,457,056 ftu_time.png\n",
            "28/11/2022  16:53            78,746 future_predictions.png\n",
            "15/11/2022  13:09         1,461,284 heatMap.png\n",
            "22/11/2022  12:46        23,158,205 interp_data.csv\n",
            "22/11/2022  15:53           147,027 interpolating cefas.ipynb\n",
            "22/11/2022  15:39            36,069 Kd.png\n",
            "22/11/2022  15:39            66,288 kd_month.png\n",
            "07/11/2022  15:51         6,124,450 kd_time.png\n",
            "28/11/2022  14:52           626,632 model.h5\n",
            "07/11/2022  15:53         4,120,454 o2_time.png\n",
            "03/11/2022  13:04    <DIR>          oxygen_saturation_data\n",
            "09/11/2022  10:20         9,325,204 par_0_time.png\n",
            "09/11/2022  10:22         7,744,211 par_1_time.png\n",
            "09/11/2022  10:23         9,063,318 par_2_time.png\n",
            "22/11/2022  15:16            82,058 par_month_1.png\n",
            "28/11/2022  16:52            76,212 predictions.png\n",
            "22/11/2022  14:04            53,194 sal.png\n",
            "22/11/2022  15:25            73,621 sal_month.png\n",
            "07/11/2022  15:26        26,908,624 sal_time.png\n",
            "07/11/2022  15:48         3,236,680 sil_time.png\n",
            "22/11/2022  14:03            60,974 temp.png\n",
            "22/11/2022  13:58            79,730 temp_month.png\n",
            "07/11/2022  15:21        13,299,467 temp_time.png\n",
            "14/11/2022  13:37         9,055,732 temp_time2.png\n",
            "09/11/2022  10:16         3,689,664 toxn_time.png\n",
            "22/11/2022  15:46            42,995 turbidity.png\n",
            "22/11/2022  15:45            70,345 turbidity_month.png\n",
            "26/10/2022  10:44       146,360,601 WESTGAB.csv\n",
            "26/10/2022  10:44        15,097,489 WESTGAB_2.csv\n",
            "26/10/2022  10:44        34,779,790 WESTGAB2.csv\n",
            "26/10/2022  10:44         1,872,717 WESTGAB2_2.csv\n",
            "26/10/2022  10:44        14,371,530 WESTGAB2PAR.csv\n",
            "26/10/2022  10:44        42,393,256 WESTGABPAR.csv\n",
            "26/10/2022  10:44         4,565,940 WG2O2SAT.csv\n",
            "              42 File(s)    435,527,058 bytes\n",
            "               4 Dir(s)  14,471,229,440 bytes free\n"
          ]
        }
      ],
      "source": [
        "ls"
      ]
    },
    {
      "cell_type": "code",
      "execution_count": 7,
      "metadata": {
        "colab": {
          "base_uri": "https://localhost:8080/",
          "height": 455
        },
        "id": "ezsudB71bvWk",
        "outputId": "0fd796b8-6c4a-4f7c-e708-2a9628136143"
      },
      "outputs": [
        {
          "data": {
            "text/html": [
              "<div>\n",
              "<style scoped>\n",
              "    .dataframe tbody tr th:only-of-type {\n",
              "        vertical-align: middle;\n",
              "    }\n",
              "\n",
              "    .dataframe tbody tr th {\n",
              "        vertical-align: top;\n",
              "    }\n",
              "\n",
              "    .dataframe thead th {\n",
              "        text-align: right;\n",
              "    }\n",
              "</style>\n",
              "<table border=\"1\" class=\"dataframe\">\n",
              "  <thead>\n",
              "    <tr style=\"text-align: right;\">\n",
              "      <th></th>\n",
              "      <th>Unnamed: 0</th>\n",
              "      <th>deployment</th>\n",
              "      <th>deployment_group</th>\n",
              "      <th>lat</th>\n",
              "      <th>lon</th>\n",
              "      <th>depth</th>\n",
              "      <th>value</th>\n",
              "      <th>stdev</th>\n",
              "      <th>n</th>\n",
              "      <th>stdev_derived</th>\n",
              "      <th>sensor</th>\n",
              "      <th>sensor_serial</th>\n",
              "      <th>par</th>\n",
              "      <th>unit</th>\n",
              "    </tr>\n",
              "    <tr>\n",
              "      <th>dateTime</th>\n",
              "      <th></th>\n",
              "      <th></th>\n",
              "      <th></th>\n",
              "      <th></th>\n",
              "      <th></th>\n",
              "      <th></th>\n",
              "      <th></th>\n",
              "      <th></th>\n",
              "      <th></th>\n",
              "      <th></th>\n",
              "      <th></th>\n",
              "      <th></th>\n",
              "      <th></th>\n",
              "      <th></th>\n",
              "    </tr>\n",
              "  </thead>\n",
              "  <tbody>\n",
              "    <tr>\n",
              "      <th>2002-08-28 13:15:00</th>\n",
              "      <td>1</td>\n",
              "      <td>WESTGAB/001</td>\n",
              "      <td>WESTGAB</td>\n",
              "      <td>51.998167</td>\n",
              "      <td>2.079333</td>\n",
              "      <td>1</td>\n",
              "      <td>18.780</td>\n",
              "      <td>0.009917</td>\n",
              "      <td>420.0</td>\n",
              "      <td>NaN</td>\n",
              "      <td>FSI CT Module</td>\n",
              "      <td>1842</td>\n",
              "      <td>TEMP</td>\n",
              "      <td>C</td>\n",
              "    </tr>\n",
              "    <tr>\n",
              "      <th>2002-08-28 13:15:00</th>\n",
              "      <td>2</td>\n",
              "      <td>WESTGAB/001</td>\n",
              "      <td>WESTGAB</td>\n",
              "      <td>51.998167</td>\n",
              "      <td>2.079333</td>\n",
              "      <td>1</td>\n",
              "      <td>34.691</td>\n",
              "      <td>0.009830</td>\n",
              "      <td>420.0</td>\n",
              "      <td>NaN</td>\n",
              "      <td>FSI CT Module</td>\n",
              "      <td>1842</td>\n",
              "      <td>SAL</td>\n",
              "      <td>PSS78</td>\n",
              "    </tr>\n",
              "    <tr>\n",
              "      <th>2002-08-28 13:15:00</th>\n",
              "      <td>3</td>\n",
              "      <td>WESTGAB/001</td>\n",
              "      <td>WESTGAB</td>\n",
              "      <td>51.998167</td>\n",
              "      <td>2.079333</td>\n",
              "      <td>1</td>\n",
              "      <td>6.420</td>\n",
              "      <td>0.766821</td>\n",
              "      <td>420.0</td>\n",
              "      <td>NaN</td>\n",
              "      <td>Optical Back Scatter</td>\n",
              "      <td>1743</td>\n",
              "      <td>FTU</td>\n",
              "      <td>FTU</td>\n",
              "    </tr>\n",
              "    <tr>\n",
              "      <th>2002-08-28 13:15:00</th>\n",
              "      <td>4</td>\n",
              "      <td>WESTGAB/001</td>\n",
              "      <td>WESTGAB</td>\n",
              "      <td>51.998167</td>\n",
              "      <td>2.079333</td>\n",
              "      <td>1</td>\n",
              "      <td>0.620</td>\n",
              "      <td>0.056845</td>\n",
              "      <td>420.0</td>\n",
              "      <td>NaN</td>\n",
              "      <td>Seapoint Chlorophyll Fluorometer</td>\n",
              "      <td>2317</td>\n",
              "      <td>FLUORS</td>\n",
              "      <td>arb. unit</td>\n",
              "    </tr>\n",
              "    <tr>\n",
              "      <th>2002-08-28 13:30:00</th>\n",
              "      <td>5</td>\n",
              "      <td>WESTGAB/001</td>\n",
              "      <td>WESTGAB</td>\n",
              "      <td>51.998167</td>\n",
              "      <td>2.079333</td>\n",
              "      <td>1</td>\n",
              "      <td>0.630</td>\n",
              "      <td>0.068598</td>\n",
              "      <td>420.0</td>\n",
              "      <td>NaN</td>\n",
              "      <td>Seapoint Chlorophyll Fluorometer</td>\n",
              "      <td>2317</td>\n",
              "      <td>FLUORS</td>\n",
              "      <td>arb. unit</td>\n",
              "    </tr>\n",
              "    <tr>\n",
              "      <th>...</th>\n",
              "      <td>...</td>\n",
              "      <td>...</td>\n",
              "      <td>...</td>\n",
              "      <td>...</td>\n",
              "      <td>...</td>\n",
              "      <td>...</td>\n",
              "      <td>...</td>\n",
              "      <td>...</td>\n",
              "      <td>...</td>\n",
              "      <td>...</td>\n",
              "      <td>...</td>\n",
              "      <td>...</td>\n",
              "      <td>...</td>\n",
              "      <td>...</td>\n",
              "    </tr>\n",
              "    <tr>\n",
              "      <th>2016-05-10 06:00:00</th>\n",
              "      <td>884465</td>\n",
              "      <td>WESTGAB/104</td>\n",
              "      <td>WESTGAB</td>\n",
              "      <td>51.980333</td>\n",
              "      <td>2.082833</td>\n",
              "      <td>1</td>\n",
              "      <td>2.870</td>\n",
              "      <td>0.964457</td>\n",
              "      <td>300.0</td>\n",
              "      <td>NaN</td>\n",
              "      <td>Optical Back Scatter\\r\\r\\nCabled sensor</td>\n",
              "      <td>1638</td>\n",
              "      <td>FTU</td>\n",
              "      <td>FTU</td>\n",
              "    </tr>\n",
              "    <tr>\n",
              "      <th>2016-05-10 06:00:00</th>\n",
              "      <td>884466</td>\n",
              "      <td>WESTGAB/104</td>\n",
              "      <td>WESTGAB</td>\n",
              "      <td>51.980333</td>\n",
              "      <td>2.082833</td>\n",
              "      <td>1</td>\n",
              "      <td>34.668</td>\n",
              "      <td>0.046799</td>\n",
              "      <td>60.0</td>\n",
              "      <td>NaN</td>\n",
              "      <td>Aanderaa Conductivity Sensor - Type 3919B IW</td>\n",
              "      <td>804</td>\n",
              "      <td>SAL</td>\n",
              "      <td>PSS78</td>\n",
              "    </tr>\n",
              "    <tr>\n",
              "      <th>2016-05-10 06:00:00</th>\n",
              "      <td>884467</td>\n",
              "      <td>WESTGAB/104</td>\n",
              "      <td>WESTGAB</td>\n",
              "      <td>51.980333</td>\n",
              "      <td>2.082833</td>\n",
              "      <td>1</td>\n",
              "      <td>10.805</td>\n",
              "      <td>0.017110</td>\n",
              "      <td>60.0</td>\n",
              "      <td>NaN</td>\n",
              "      <td>Aanderaa Conductivity Sensor - Type 3919B IW</td>\n",
              "      <td>804</td>\n",
              "      <td>TEMP</td>\n",
              "      <td>C</td>\n",
              "    </tr>\n",
              "    <tr>\n",
              "      <th>2016-05-10 06:00:00</th>\n",
              "      <td>884468</td>\n",
              "      <td>WESTGAB/104</td>\n",
              "      <td>WESTGAB</td>\n",
              "      <td>51.980333</td>\n",
              "      <td>2.082833</td>\n",
              "      <td>1</td>\n",
              "      <td>3.180</td>\n",
              "      <td>2.073168</td>\n",
              "      <td>300.0</td>\n",
              "      <td>NaN</td>\n",
              "      <td>Seapoint Chlorophyll Fluorometer</td>\n",
              "      <td>2787</td>\n",
              "      <td>FLUORS</td>\n",
              "      <td>arb. unit</td>\n",
              "    </tr>\n",
              "    <tr>\n",
              "      <th>2016-05-10 06:00:00</th>\n",
              "      <td>884469</td>\n",
              "      <td>WESTGAB/104</td>\n",
              "      <td>WESTGAB</td>\n",
              "      <td>51.980333</td>\n",
              "      <td>2.082833</td>\n",
              "      <td>1</td>\n",
              "      <td>10.489</td>\n",
              "      <td>NaN</td>\n",
              "      <td>60.0</td>\n",
              "      <td>NaN</td>\n",
              "      <td>Aanderaa Optode - Type 3835</td>\n",
              "      <td>1026</td>\n",
              "      <td>O2CONC</td>\n",
              "      <td>mg/l</td>\n",
              "    </tr>\n",
              "  </tbody>\n",
              "</table>\n",
              "<p>884469 rows × 14 columns</p>\n",
              "</div>"
            ],
            "text/plain": [
              "                     Unnamed: 0   deployment deployment_group        lat  \\\n",
              "dateTime                                                                   \n",
              "2002-08-28 13:15:00           1  WESTGAB/001          WESTGAB  51.998167   \n",
              "2002-08-28 13:15:00           2  WESTGAB/001          WESTGAB  51.998167   \n",
              "2002-08-28 13:15:00           3  WESTGAB/001          WESTGAB  51.998167   \n",
              "2002-08-28 13:15:00           4  WESTGAB/001          WESTGAB  51.998167   \n",
              "2002-08-28 13:30:00           5  WESTGAB/001          WESTGAB  51.998167   \n",
              "...                         ...          ...              ...        ...   \n",
              "2016-05-10 06:00:00      884465  WESTGAB/104          WESTGAB  51.980333   \n",
              "2016-05-10 06:00:00      884466  WESTGAB/104          WESTGAB  51.980333   \n",
              "2016-05-10 06:00:00      884467  WESTGAB/104          WESTGAB  51.980333   \n",
              "2016-05-10 06:00:00      884468  WESTGAB/104          WESTGAB  51.980333   \n",
              "2016-05-10 06:00:00      884469  WESTGAB/104          WESTGAB  51.980333   \n",
              "\n",
              "                          lon  depth   value     stdev      n  stdev_derived  \\\n",
              "dateTime                                                                       \n",
              "2002-08-28 13:15:00  2.079333      1  18.780  0.009917  420.0            NaN   \n",
              "2002-08-28 13:15:00  2.079333      1  34.691  0.009830  420.0            NaN   \n",
              "2002-08-28 13:15:00  2.079333      1   6.420  0.766821  420.0            NaN   \n",
              "2002-08-28 13:15:00  2.079333      1   0.620  0.056845  420.0            NaN   \n",
              "2002-08-28 13:30:00  2.079333      1   0.630  0.068598  420.0            NaN   \n",
              "...                       ...    ...     ...       ...    ...            ...   \n",
              "2016-05-10 06:00:00  2.082833      1   2.870  0.964457  300.0            NaN   \n",
              "2016-05-10 06:00:00  2.082833      1  34.668  0.046799   60.0            NaN   \n",
              "2016-05-10 06:00:00  2.082833      1  10.805  0.017110   60.0            NaN   \n",
              "2016-05-10 06:00:00  2.082833      1   3.180  2.073168  300.0            NaN   \n",
              "2016-05-10 06:00:00  2.082833      1  10.489       NaN   60.0            NaN   \n",
              "\n",
              "                                                           sensor  \\\n",
              "dateTime                                                            \n",
              "2002-08-28 13:15:00                                 FSI CT Module   \n",
              "2002-08-28 13:15:00                                 FSI CT Module   \n",
              "2002-08-28 13:15:00                          Optical Back Scatter   \n",
              "2002-08-28 13:15:00              Seapoint Chlorophyll Fluorometer   \n",
              "2002-08-28 13:30:00              Seapoint Chlorophyll Fluorometer   \n",
              "...                                                           ...   \n",
              "2016-05-10 06:00:00       Optical Back Scatter\\r\\r\\nCabled sensor   \n",
              "2016-05-10 06:00:00  Aanderaa Conductivity Sensor - Type 3919B IW   \n",
              "2016-05-10 06:00:00  Aanderaa Conductivity Sensor - Type 3919B IW   \n",
              "2016-05-10 06:00:00              Seapoint Chlorophyll Fluorometer   \n",
              "2016-05-10 06:00:00                   Aanderaa Optode - Type 3835   \n",
              "\n",
              "                     sensor_serial     par       unit  \n",
              "dateTime                                               \n",
              "2002-08-28 13:15:00           1842    TEMP          C  \n",
              "2002-08-28 13:15:00           1842     SAL      PSS78  \n",
              "2002-08-28 13:15:00           1743     FTU        FTU  \n",
              "2002-08-28 13:15:00           2317  FLUORS  arb. unit  \n",
              "2002-08-28 13:30:00           2317  FLUORS  arb. unit  \n",
              "...                            ...     ...        ...  \n",
              "2016-05-10 06:00:00           1638     FTU        FTU  \n",
              "2016-05-10 06:00:00            804     SAL      PSS78  \n",
              "2016-05-10 06:00:00            804    TEMP          C  \n",
              "2016-05-10 06:00:00           2787  FLUORS  arb. unit  \n",
              "2016-05-10 06:00:00           1026  O2CONC       mg/l  \n",
              "\n",
              "[884469 rows x 14 columns]"
            ]
          },
          "execution_count": 7,
          "metadata": {},
          "output_type": "execute_result"
        }
      ],
      "source": [
        "westgab = pd.read_csv(\"WESTGAB.csv\", parse_dates = [\"dateTime\"], encoding_errors = \"ignore\")\n",
        "westgab.set_index(\"dateTime\", inplace = True)\n",
        "westgab"
      ]
    },
    {
      "cell_type": "markdown",
      "metadata": {
        "id": "PYR6lmityHZe"
      },
      "source": [
        "Need to deal with encoding errors in order for file to open file. The causes are in the units column and can be ignored. Then we use the dateTime column to be of the date type and use this to index our files."
      ]
    },
    {
      "cell_type": "code",
      "execution_count": 8,
      "metadata": {
        "colab": {
          "base_uri": "https://localhost:8080/"
        },
        "id": "TCI1h16try7N",
        "outputId": "7d794a2d-3884-4ab8-c228-6163db5d61e6"
      },
      "outputs": [
        {
          "name": "stderr",
          "output_type": "stream",
          "text": [
            "C:\\Users\\709583\\AppData\\Local\\Temp\\ipykernel_16936\\1525487754.py:3: DtypeWarning: Columns (12) have mixed types. Specify dtype option on import or set low_memory=False.\n",
            "  westgab_2 = pd.read_csv(\"WESTGAB_2.csv\", parse_dates = [\"dateTime\"], encoding_errors = \"ignore\")\n"
          ]
        }
      ],
      "source": [
        "westgab = pd.read_csv(\"WESTGAB.csv\", parse_dates = [\"dateTime\"], encoding_errors = \"ignore\")\n",
        "westgab.set_index(\"dateTime\", inplace = True)\n",
        "westgab_2 = pd.read_csv(\"WESTGAB_2.csv\", parse_dates = [\"dateTime\"], encoding_errors = \"ignore\")\n",
        "westgab_2.set_index(\"dateTime\", inplace = True)\n",
        "westgabpar = pd.read_csv(\"WESTGABPAR.csv\", parse_dates = [\"dateTime\"], encoding_errors = \"ignore\")\n",
        "westgabpar.set_index(\"dateTime\", inplace = True)"
      ]
    },
    {
      "cell_type": "markdown",
      "metadata": {
        "id": "cpn7PtUstWl9"
      },
      "source": [
        "Now we extract the data associated with seperate parameters (\"par\") into seperate data frames before re-combining based on date. Then we make sure that our entries are numbers before saving to a csv. For each time point there are 3 different values of PAR corresponding to different 0, 1, and 2 metres depths so we'll make 3 columns for these."
      ]
    },
    {
      "cell_type": "code",
      "execution_count": 9,
      "metadata": {
        "id": "aKM73vqGksvX"
      },
      "outputs": [],
      "source": [
        "westgab_temp = westgab[westgab[\"par\"] == \"TEMP\"]\n",
        "westgab_temp = westgab_temp[\"value\"]\n",
        "westgab_temp.name = \"temp\"\n",
        "westgab_sal = westgab[westgab[\"par\"] == \"SAL\"]\n",
        "westgab_sal = westgab_sal[\"value\"]\n",
        "westgab_sal.name = \"sal\"\n",
        "westgab_ftu = westgab[westgab[\"par\"] == \"FTU\"]\n",
        "westgab_ftu = westgab_ftu[\"value\"]\n",
        "westgab_ftu.name = \"ftu\"\n",
        "westgab_fluors = westgab[westgab[\"par\"] == \"FLUORS\"]\n",
        "westgab_fluors = westgab_fluors[\"value\"]\n",
        "westgab_fluors.name = \"fluors\"\n",
        "westgab_o2 = westgab[westgab[\"par\"] == \"O2CONC\"]\n",
        "westgab_o2 = westgab_o2[\"value\"]\n",
        "westgab_o2.name = \"o2\"\n",
        "\n",
        "westgab_kd = westgab_2[westgab_2[\"par\"] == \"Kd\"]\n",
        "westgab_kd = westgab_kd[\"value\"]\n",
        "westgab_kd.name = \"kd\"\n",
        "westgab_tox = westgab_2[westgab_2[\"par\"] == \"TOXN\"]\n",
        "westgab_tox = westgab_tox[\"value\"]\n",
        "westgab_tox.name = \"tox\"\n",
        "westgab_sil = westgab_2[westgab_2[\"par\"] == \"SILICA\"]\n",
        "westgab_sil = westgab_sil[\"value\"]\n",
        "westgab_sil.name = \"sil\"\n",
        "\n",
        "westgab_par_0 = westgabpar[westgabpar[\"depth\"] == 0]\n",
        "westgab_par_0 = westgab_par_0[\"value\"]\n",
        "westgab_par_0.name = \"par_0\"\n",
        "\n",
        "westgab_par_1 = westgabpar[westgabpar[\"depth\"] == 1]\n",
        "westgab_par_1 = westgab_par_1[\"value\"]\n",
        "westgab_par_1.name = \"par_1\"\n",
        "\n",
        "westgab_par_2 = westgabpar[westgabpar[\"depth\"] == 2]\n",
        "westgab_par_2 = westgab_par_2[\"value\"]\n",
        "westgab_par_2.name = \"par_2\"\n",
        "\n",
        "merge1 = pd.merge(westgab_temp, westgab_sal, how = 'outer', left_index = True, right_index = True)\n",
        "merge1 = pd.merge(merge1, westgab_ftu, how = 'outer', left_index = True, right_index = True)\n",
        "merge1 = pd.merge(merge1, westgab_fluors, how = 'outer', left_index = True, right_index = True)\n",
        "merge1 = pd.merge(merge1, westgab_o2, how = 'outer', left_index = True, right_index = True)\n",
        "merge1 = pd.merge(merge1, westgab_kd, how = 'outer', left_index = True, right_index = True)\n",
        "merge1 = pd.merge(merge1, westgab_tox, how = 'outer', left_index = True, right_index = True)\n",
        "merge1 = pd.merge(merge1, westgab_sil, how = 'outer', left_index = True, right_index = True)\n",
        "merge1 = pd.merge(merge1, westgab_par_0, how = 'outer', left_index = True, right_index = True)\n",
        "merge1 = pd.merge(merge1, westgab_par_1, how = 'outer', left_index = True, right_index = True)\n",
        "merge1 = pd.merge(merge1, westgab_par_2, how = 'outer', left_index = True, right_index = True)\n",
        "\n",
        "merge1 = merge1.apply(pd.to_numeric, errors = 'raise')\n",
        "merge1.to_csv(\"clean_data1.csv\", sep = \",\", index = \"False\")"
      ]
    },
    {
      "cell_type": "markdown",
      "metadata": {
        "id": "ybfGt_FuxyzW"
      },
      "source": [
        "We now do the exact same thing but for WESTGAB2."
      ]
    },
    {
      "cell_type": "code",
      "execution_count": 10,
      "metadata": {
        "id": "APVKdqsyx7le"
      },
      "outputs": [],
      "source": [
        "westgab2 = pd.read_csv(\"WESTGAB2.csv\", parse_dates = [\"dateTime\"], encoding_errors = \"ignore\")\n",
        "westgab2.set_index(\"dateTime\", inplace = True)\n",
        "westgab2_2 = pd.read_csv(\"WESTGAB2_2.csv\", parse_dates = [\"dateTime\"], encoding_errors = \"ignore\")\n",
        "westgab2_2.set_index(\"dateTime\", inplace = True)\n",
        "westgab2par = pd.read_csv(\"WESTGAB2PAR.csv\", parse_dates = [\"dateTime\"], encoding_errors = \"ignore\")\n",
        "westgab2par.set_index(\"dateTime\", inplace = True)"
      ]
    },
    {
      "cell_type": "code",
      "execution_count": 11,
      "metadata": {
        "id": "bnpXMOzGy8A9"
      },
      "outputs": [],
      "source": [
        "westgab2_temp = westgab2[westgab2[\"par\"] == \"TEMP\"]\n",
        "westgab2_temp = westgab2_temp[\"value\"]\n",
        "westgab2_temp.name = \"temp\"\n",
        "westgab2_sal = westgab2[westgab2[\"par\"] == \"SAL\"]\n",
        "westgab2_sal = westgab2_sal[\"value\"]\n",
        "westgab2_sal.name = \"sal\"\n",
        "westgab2_ftu = westgab2[westgab2[\"par\"] == \"FTU\"]\n",
        "westgab2_ftu = westgab2_ftu[\"value\"]\n",
        "westgab2_ftu.name = \"ftu\"\n",
        "westgab2_fluors = westgab2[westgab2[\"par\"] == \"FLUORS\"]\n",
        "westgab2_fluors = westgab2_fluors[\"value\"]\n",
        "westgab2_fluors.name = \"fluors\"\n",
        "westgab2_o2 = westgab2[westgab2[\"par\"] == \"O2CONC\"]\n",
        "westgab2_o2 = westgab2_o2[\"value\"]\n",
        "westgab2_o2.name = \"o2\"\n",
        "\n",
        "westgab2_kd = westgab2_2[westgab2_2[\"par\"] == \"Kd\"]\n",
        "westgab2_kd = westgab2_kd[\"value\"]\n",
        "westgab2_kd.name = \"kd\"\n",
        "westgab2_tox = westgab2_2[westgab2_2[\"par\"] == \"TOXN\"]\n",
        "westgab2_tox = westgab2_tox[\"value\"]\n",
        "westgab2_tox.name = \"tox\"\n",
        "westgab2_sil = westgab2_2[westgab2_2[\"par\"] == \"SILICA\"]\n",
        "westgab2_sil = westgab2_sil[\"value\"]\n",
        "westgab2_sil.name = \"sil\"\n",
        "\n",
        "westgab2_par_0 = westgab2par[westgab2par[\"depth\"] == 0]\n",
        "westgab2_par_0 = westgab2_par_0[\"value\"]\n",
        "westgab2_par_0.name = \"par_0\"\n",
        "\n",
        "westgab2_par_1 = westgab2par[westgab2par[\"depth\"] == 1]\n",
        "westgab2_par_1 = westgab2_par_1[\"value\"]\n",
        "westgab2_par_1.name = \"par_1\"\n",
        "\n",
        "westgab2_par_2 = westgab2par[westgab2par[\"depth\"] == 2]\n",
        "westgab2_par_2 = westgab2_par_2[\"value\"]\n",
        "westgab2_par_2.name = \"par_2\"\n",
        "\n",
        "merge2 = pd.merge(westgab2_temp, westgab2_sal, how = 'outer', left_index = True, right_index = True)\n",
        "merge2 = pd.merge(merge2, westgab2_ftu, how = 'outer', left_index = True, right_index = True)\n",
        "merge2 = pd.merge(merge2, westgab2_fluors, how = 'outer', left_index = True, right_index = True)\n",
        "merge2 = pd.merge(merge2, westgab2_o2, how = 'outer', left_index = True, right_index = True)\n",
        "merge2 = pd.merge(merge2, westgab2_kd, how = 'outer', left_index = True, right_index = True)\n",
        "merge2 = pd.merge(merge2, westgab2_tox, how = 'outer', left_index = True, right_index = True)\n",
        "merge2 = pd.merge(merge2, westgab2_sil, how = 'outer', left_index = True, right_index = True)\n",
        "merge2 = pd.merge(merge2, westgab2_par_0, how = 'outer', left_index = True, right_index = True)\n",
        "merge2 = pd.merge(merge2, westgab2_par_1, how = 'outer', left_index = True, right_index = True)\n",
        "merge2 = pd.merge(merge2, westgab2_par_2, how = 'outer', left_index = True, right_index = True)\n",
        "\n",
        "merge2 = merge2.apply(pd.to_numeric, errors = 'raise')\n",
        "merge2.to_csv(\"clean_data2.csv\", sep = \",\", index = \"False\")"
      ]
    },
    {
      "cell_type": "code",
      "execution_count": 12,
      "metadata": {
        "id": "RdDSIFkxzsI4"
      },
      "outputs": [],
      "source": [
        "df3 = pd.concat([merge1, merge2], axis = 0)\n",
        "df3.to_csv(\"clean_data.csv\", sep = \",\", index = \"False\")"
      ]
    },
    {
      "cell_type": "markdown",
      "metadata": {
        "id": "j0EbD-IxzVL1"
      },
      "source": [
        "Now let's read in our data and then add a column of labels for the various construction phases:\n",
        "0.   Before any windfarm construction ( - 05/10/2009)\n",
        "1.   During construction of Greater Gabbard (05/10/2009 - 07/09/2012)\n",
        "2.   Before construction of Greater Galloper (07/09/2012 - Summer 2016) NEED EXACT DATE!\n",
        "3.   During construction of Greater Galloper (Summer 2016 - March 2018)\n",
        "4.   After construction of both wind farms (March 2018)\n",
        "\n",
        "\n",
        "\n"
      ]
    },
    {
      "cell_type": "code",
      "execution_count": 13,
      "metadata": {
        "colab": {
          "base_uri": "https://localhost:8080/",
          "height": 455
        },
        "id": "4G5AaeptzUqo",
        "outputId": "ba83a931-16d0-4811-d52d-b43f62e1587d"
      },
      "outputs": [
        {
          "data": {
            "text/html": [
              "<div>\n",
              "<style scoped>\n",
              "    .dataframe tbody tr th:only-of-type {\n",
              "        vertical-align: middle;\n",
              "    }\n",
              "\n",
              "    .dataframe tbody tr th {\n",
              "        vertical-align: top;\n",
              "    }\n",
              "\n",
              "    .dataframe thead th {\n",
              "        text-align: right;\n",
              "    }\n",
              "</style>\n",
              "<table border=\"1\" class=\"dataframe\">\n",
              "  <thead>\n",
              "    <tr style=\"text-align: right;\">\n",
              "      <th></th>\n",
              "      <th>temp</th>\n",
              "      <th>sal</th>\n",
              "      <th>ftu</th>\n",
              "      <th>fluors</th>\n",
              "      <th>o2</th>\n",
              "      <th>kd</th>\n",
              "      <th>tox</th>\n",
              "      <th>sil</th>\n",
              "      <th>par_0</th>\n",
              "      <th>par_1</th>\n",
              "      <th>par_2</th>\n",
              "      <th>phase</th>\n",
              "    </tr>\n",
              "    <tr>\n",
              "      <th>dateTime</th>\n",
              "      <th></th>\n",
              "      <th></th>\n",
              "      <th></th>\n",
              "      <th></th>\n",
              "      <th></th>\n",
              "      <th></th>\n",
              "      <th></th>\n",
              "      <th></th>\n",
              "      <th></th>\n",
              "      <th></th>\n",
              "      <th></th>\n",
              "      <th></th>\n",
              "    </tr>\n",
              "  </thead>\n",
              "  <tbody>\n",
              "    <tr>\n",
              "      <th>2002-08-28 13:15:00</th>\n",
              "      <td>18.78</td>\n",
              "      <td>34.691</td>\n",
              "      <td>6.42</td>\n",
              "      <td>0.62</td>\n",
              "      <td>NaN</td>\n",
              "      <td>0.641</td>\n",
              "      <td>NaN</td>\n",
              "      <td>NaN</td>\n",
              "      <td>NaN</td>\n",
              "      <td>429.3</td>\n",
              "      <td>226.2</td>\n",
              "      <td>0</td>\n",
              "    </tr>\n",
              "    <tr>\n",
              "      <th>2002-08-28 13:30:00</th>\n",
              "      <td>18.77</td>\n",
              "      <td>34.666</td>\n",
              "      <td>6.56</td>\n",
              "      <td>0.63</td>\n",
              "      <td>NaN</td>\n",
              "      <td>0.688</td>\n",
              "      <td>NaN</td>\n",
              "      <td>NaN</td>\n",
              "      <td>NaN</td>\n",
              "      <td>475.9</td>\n",
              "      <td>239.1</td>\n",
              "      <td>0</td>\n",
              "    </tr>\n",
              "    <tr>\n",
              "      <th>2002-08-28 13:45:00</th>\n",
              "      <td>18.75</td>\n",
              "      <td>34.653</td>\n",
              "      <td>5.69</td>\n",
              "      <td>0.66</td>\n",
              "      <td>NaN</td>\n",
              "      <td>0.682</td>\n",
              "      <td>NaN</td>\n",
              "      <td>NaN</td>\n",
              "      <td>NaN</td>\n",
              "      <td>518.9</td>\n",
              "      <td>262.4</td>\n",
              "      <td>0</td>\n",
              "    </tr>\n",
              "    <tr>\n",
              "      <th>2002-08-28 14:00:00</th>\n",
              "      <td>18.75</td>\n",
              "      <td>34.635</td>\n",
              "      <td>5.50</td>\n",
              "      <td>0.69</td>\n",
              "      <td>NaN</td>\n",
              "      <td>0.720</td>\n",
              "      <td>NaN</td>\n",
              "      <td>NaN</td>\n",
              "      <td>NaN</td>\n",
              "      <td>603.9</td>\n",
              "      <td>294.0</td>\n",
              "      <td>0</td>\n",
              "    </tr>\n",
              "    <tr>\n",
              "      <th>2002-08-28 14:15:00</th>\n",
              "      <td>18.74</td>\n",
              "      <td>34.628</td>\n",
              "      <td>4.93</td>\n",
              "      <td>0.75</td>\n",
              "      <td>NaN</td>\n",
              "      <td>NaN</td>\n",
              "      <td>NaN</td>\n",
              "      <td>NaN</td>\n",
              "      <td>NaN</td>\n",
              "      <td>570.9</td>\n",
              "      <td>292.7</td>\n",
              "      <td>0</td>\n",
              "    </tr>\n",
              "    <tr>\n",
              "      <th>...</th>\n",
              "      <td>...</td>\n",
              "      <td>...</td>\n",
              "      <td>...</td>\n",
              "      <td>...</td>\n",
              "      <td>...</td>\n",
              "      <td>...</td>\n",
              "      <td>...</td>\n",
              "      <td>...</td>\n",
              "      <td>...</td>\n",
              "      <td>...</td>\n",
              "      <td>...</td>\n",
              "      <td>...</td>\n",
              "    </tr>\n",
              "    <tr>\n",
              "      <th>2019-12-07 13:30:00</th>\n",
              "      <td>NaN</td>\n",
              "      <td>NaN</td>\n",
              "      <td>NaN</td>\n",
              "      <td>NaN</td>\n",
              "      <td>NaN</td>\n",
              "      <td>0.452</td>\n",
              "      <td>NaN</td>\n",
              "      <td>NaN</td>\n",
              "      <td>NaN</td>\n",
              "      <td>NaN</td>\n",
              "      <td>NaN</td>\n",
              "      <td>4</td>\n",
              "    </tr>\n",
              "    <tr>\n",
              "      <th>2019-12-07 14:00:00</th>\n",
              "      <td>NaN</td>\n",
              "      <td>NaN</td>\n",
              "      <td>NaN</td>\n",
              "      <td>NaN</td>\n",
              "      <td>NaN</td>\n",
              "      <td>0.429</td>\n",
              "      <td>NaN</td>\n",
              "      <td>NaN</td>\n",
              "      <td>NaN</td>\n",
              "      <td>NaN</td>\n",
              "      <td>NaN</td>\n",
              "      <td>4</td>\n",
              "    </tr>\n",
              "    <tr>\n",
              "      <th>2019-12-07 14:30:00</th>\n",
              "      <td>NaN</td>\n",
              "      <td>NaN</td>\n",
              "      <td>NaN</td>\n",
              "      <td>NaN</td>\n",
              "      <td>NaN</td>\n",
              "      <td>0.422</td>\n",
              "      <td>NaN</td>\n",
              "      <td>NaN</td>\n",
              "      <td>NaN</td>\n",
              "      <td>NaN</td>\n",
              "      <td>NaN</td>\n",
              "      <td>4</td>\n",
              "    </tr>\n",
              "    <tr>\n",
              "      <th>2019-12-07 15:00:00</th>\n",
              "      <td>NaN</td>\n",
              "      <td>NaN</td>\n",
              "      <td>NaN</td>\n",
              "      <td>NaN</td>\n",
              "      <td>NaN</td>\n",
              "      <td>0.344</td>\n",
              "      <td>NaN</td>\n",
              "      <td>NaN</td>\n",
              "      <td>NaN</td>\n",
              "      <td>NaN</td>\n",
              "      <td>NaN</td>\n",
              "      <td>4</td>\n",
              "    </tr>\n",
              "    <tr>\n",
              "      <th>2019-12-07 15:30:00</th>\n",
              "      <td>NaN</td>\n",
              "      <td>NaN</td>\n",
              "      <td>NaN</td>\n",
              "      <td>NaN</td>\n",
              "      <td>NaN</td>\n",
              "      <td>0.273</td>\n",
              "      <td>NaN</td>\n",
              "      <td>NaN</td>\n",
              "      <td>NaN</td>\n",
              "      <td>NaN</td>\n",
              "      <td>NaN</td>\n",
              "      <td>4</td>\n",
              "    </tr>\n",
              "  </tbody>\n",
              "</table>\n",
              "<p>324479 rows × 12 columns</p>\n",
              "</div>"
            ],
            "text/plain": [
              "                      temp     sal   ftu  fluors  o2     kd  tox  sil  par_0  \\\n",
              "dateTime                                                                       \n",
              "2002-08-28 13:15:00  18.78  34.691  6.42    0.62 NaN  0.641  NaN  NaN    NaN   \n",
              "2002-08-28 13:30:00  18.77  34.666  6.56    0.63 NaN  0.688  NaN  NaN    NaN   \n",
              "2002-08-28 13:45:00  18.75  34.653  5.69    0.66 NaN  0.682  NaN  NaN    NaN   \n",
              "2002-08-28 14:00:00  18.75  34.635  5.50    0.69 NaN  0.720  NaN  NaN    NaN   \n",
              "2002-08-28 14:15:00  18.74  34.628  4.93    0.75 NaN    NaN  NaN  NaN    NaN   \n",
              "...                    ...     ...   ...     ...  ..    ...  ...  ...    ...   \n",
              "2019-12-07 13:30:00    NaN     NaN   NaN     NaN NaN  0.452  NaN  NaN    NaN   \n",
              "2019-12-07 14:00:00    NaN     NaN   NaN     NaN NaN  0.429  NaN  NaN    NaN   \n",
              "2019-12-07 14:30:00    NaN     NaN   NaN     NaN NaN  0.422  NaN  NaN    NaN   \n",
              "2019-12-07 15:00:00    NaN     NaN   NaN     NaN NaN  0.344  NaN  NaN    NaN   \n",
              "2019-12-07 15:30:00    NaN     NaN   NaN     NaN NaN  0.273  NaN  NaN    NaN   \n",
              "\n",
              "                     par_1  par_2  phase  \n",
              "dateTime                                  \n",
              "2002-08-28 13:15:00  429.3  226.2      0  \n",
              "2002-08-28 13:30:00  475.9  239.1      0  \n",
              "2002-08-28 13:45:00  518.9  262.4      0  \n",
              "2002-08-28 14:00:00  603.9  294.0      0  \n",
              "2002-08-28 14:15:00  570.9  292.7      0  \n",
              "...                    ...    ...    ...  \n",
              "2019-12-07 13:30:00    NaN    NaN      4  \n",
              "2019-12-07 14:00:00    NaN    NaN      4  \n",
              "2019-12-07 14:30:00    NaN    NaN      4  \n",
              "2019-12-07 15:00:00    NaN    NaN      4  \n",
              "2019-12-07 15:30:00    NaN    NaN      4  \n",
              "\n",
              "[324479 rows x 12 columns]"
            ]
          },
          "execution_count": 13,
          "metadata": {},
          "output_type": "execute_result"
        }
      ],
      "source": [
        "df = pd.read_csv(\"clean_data.csv\", parse_dates = [\"dateTime\"])\n",
        "df[\"phase\"] = 0\n",
        "df.loc[(df[\"dateTime\"] >= \"2009-10-05\") & (df['dateTime'] < \"2012-09-07\"), \"phase\"] = 1\n",
        "df.loc[(df[\"dateTime\"] >= \"2012-09-07\") & (df['dateTime'] < \"2015-07-01\"), \"phase\"] = 2\n",
        "df.loc[(df[\"dateTime\"] >= \"2015-07-01\") & (df['dateTime'] < \"2018-03-01\"), \"phase\"] = 3\n",
        "df.loc[df[\"dateTime\"] >= \"2018-03-01\", \"phase\"] = 4\n",
        "df = df.set_index(\"dateTime\")\n",
        "df.to_csv('clean_data.csv', sep = ',', index = 'False')\n",
        "df"
      ]
    },
    {
      "cell_type": "markdown",
      "metadata": {
        "id": "Qy3ZQ-qiy4-k"
      },
      "source": [
        "Finally we look at the proportion of missing data points for each of the columns. "
      ]
    },
    {
      "cell_type": "code",
      "execution_count": 14,
      "metadata": {
        "colab": {
          "base_uri": "https://localhost:8080/"
        },
        "id": "2KFYIKTCy4qt",
        "outputId": "9fbfbdd1-96f6-45f3-bafc-79ec75f8ccc3"
      },
      "outputs": [
        {
          "name": "stdout",
          "output_type": "stream",
          "text": [
            "Percentage of missing sal values = 15.18\n",
            "Percentage of missing ftu values = 17.29\n",
            "Percentage of missing fluors values = 22.24\n",
            "Percentage of missing o2 values = 68.91\n",
            "Percentage of missing kd values = 70.38\n",
            "Percentage of missing tox values = 93.48\n",
            "Percentage of missing sil values = 99.53\n",
            "Percentage of missing par_0 values = 72.11\n",
            "Percentage of missing par_1 values = 60.21\n",
            "Percentage of missing par_2 values = 58.87\n",
            "Percentage of missing phase values = 0.00\n"
          ]
        }
      ],
      "source": [
        "for n in range(1, 12):\n",
        "  print(f\"Percentage of missing {df.columns[n]} values = {100*df.iloc[:, n].isna().sum()/len(df) :.2f}\")"
      ]
    },
    {
      "cell_type": "markdown",
      "metadata": {
        "id": "ksU1qefE0R7t"
      },
      "source": [
        "From this we see that TOXN and SIL values at the least are severly defficient. Plotting these:"
      ]
    },
    {
      "cell_type": "code",
      "execution_count": 15,
      "metadata": {
        "colab": {
          "base_uri": "https://localhost:8080/",
          "height": 592
        },
        "id": "QFwQuLmeFeRx",
        "outputId": "b558fc1f-3872-498a-c81b-7937b76a5edc"
      },
      "outputs": [
        {
          "name": "stderr",
          "output_type": "stream",
          "text": [
            "C:\\Users\\709583\\AppData\\Local\\Temp\\ipykernel_16936\\24862859.py:5: UserWarning: Matplotlib is currently using module://matplotlib_inline.backend_inline, which is a non-GUI backend, so cannot show the figure.\n",
            "  fig.show()\n"
          ]
        },
        {
          "data": {
            "image/png": "[encoded data removed]",
            "text/plain": [
              "<Figure size 2500x1000 with 2 Axes>"
            ]
          },
          "metadata": {},
          "output_type": "display_data"
        }
      ],
      "source": [
        "df1 = pd.read_csv(\"clean_data.csv\", parse_dates = [\"dateTime\"])\n",
        "fig, ax = plt.subplots(2, 1, figsize=(25, 10))\n",
        "ax[0].scatter(df1[\"dateTime\"], df1[\"tox\"], s = 5, marker = 'o')\n",
        "ax[1].scatter(df1[\"dateTime\"], df1['sil'], s = 5, marker = 'o')\n",
        "fig.show()"
      ]
    },
    {
      "cell_type": "code",
      "execution_count": 16,
      "metadata": {
        "colab": {
          "base_uri": "https://localhost:8080/",
          "height": 392
        },
        "id": "HIe5xWpJArX4",
        "outputId": "5b98a663-bdf0-4191-d777-90d563d5e2a6"
      },
      "outputs": [
        {
          "data": {
            "text/plain": [
              "<AxesSubplot: xlabel='dateTime'>"
            ]
          },
          "execution_count": 16,
          "metadata": {},
          "output_type": "execute_result"
        },
        {
          "data": {
            "image/png": "[encoded data removed]",
            "text/plain": [
              "<Figure size 640x480 with 1 Axes>"
            ]
          },
          "metadata": {},
          "output_type": "display_data"
        }
      ],
      "source": [
        "df1 = pd.read_csv(\"clean_data.csv\", parse_dates = [\"dateTime\"])\n",
        "df1 = df1.set_index(\"dateTime\")\n",
        "df1 = df1['tox']\n",
        "df1 = df1.dropna()\n",
        "df1.resample('Y').size().plot.bar()"
      ]
    },
    {
      "cell_type": "code",
      "execution_count": 17,
      "metadata": {
        "colab": {
          "base_uri": "https://localhost:8080/",
          "height": 392
        },
        "id": "3jqGLlbgs2wa",
        "outputId": "d578cabb-ffcb-410f-80f3-a0b9d2aeac83"
      },
      "outputs": [
        {
          "data": {
            "text/plain": [
              "<AxesSubplot: xlabel='dateTime'>"
            ]
          },
          "execution_count": 17,
          "metadata": {},
          "output_type": "execute_result"
        },
        {
          "data": {
            "image/png": "[encoded data removed]",
            "text/plain": [
              "<Figure size 640x480 with 1 Axes>"
            ]
          },
          "metadata": {},
          "output_type": "display_data"
        }
      ],
      "source": [
        "df1 = pd.read_csv(\"clean_data.csv\", parse_dates = [\"dateTime\"])\n",
        "df1 = df1.set_index(\"dateTime\")\n",
        "df1 = df1['sil']\n",
        "df1 = df1.dropna()\n",
        "df1.resample('Y').size().plot.bar()"
      ]
    },
    {
      "cell_type": "markdown",
      "metadata": {
        "id": "glh9T7iO11Hs"
      },
      "source": [
        "From these we see that there are large time gaps and so the data is not reliable enough to read into the effects of the offshorewind farm on water quality over time. We remove these columns and overwrite our previous csv."
      ]
    },
    {
      "cell_type": "code",
      "execution_count": 18,
      "metadata": {
        "id": "8KBTAi4v2D6m"
      },
      "outputs": [],
      "source": [
        "df = pd.read_csv(\"clean_data.csv\", parse_dates = [\"dateTime\"])\n",
        "df = df.set_index('dateTime')\n",
        "df = df.drop(columns = [\"tox\", 'sil'], errors = 'ignore')\n",
        "df.to_csv('clean_data.csv', sep = ',', index = 'False')"
      ]
    },
    {
      "cell_type": "markdown",
      "metadata": {
        "id": "ACUqXWkHQ872"
      },
      "source": [
        "Checking this has worked."
      ]
    },
    {
      "cell_type": "code",
      "execution_count": 42,
      "metadata": {
        "colab": {
          "base_uri": "https://localhost:8080/",
          "height": 455
        },
        "id": "CC0hihf6Qm9i",
        "outputId": "200a4c72-c039-4d1a-80f8-0971da3f04b8"
      },
      "outputs": [
        {
          "name": "stdout",
          "output_type": "stream",
          "text": [
            "temp       10884\n",
            "sal        49271\n",
            "ftu        56118\n",
            "fluors     72161\n",
            "o2        223603\n",
            "kd        228354\n",
            "par_0     233992\n",
            "par_1     195374\n",
            "par_2     191016\n",
            "phase          0\n",
            "dtype: int64\n"
          ]
        }
      ],
      "source": [
        "df1 = pd.read_csv(\"clean_data.csv\", parse_dates = [\"dateTime\"])\n",
        "df1 = df1.set_index('dateTime')\n",
        "df1\n",
        "print(df1.isna().sum())"
      ]
    },
    {
      "cell_type": "markdown",
      "metadata": {},
      "source": [
        "Now we add in data found from alternative online sources. This data is hourly, so we'll compute hourly rolling averages for the data we have already first."
      ]
    },
    {
      "cell_type": "code",
      "execution_count": 44,
      "metadata": {},
      "outputs": [
        {
          "name": "stdout",
          "output_type": "stream",
          "text": [
            "Percentage of missing temp values = 13.65\n",
            "Percentage of missing sal values = 24.25\n",
            "Percentage of missing ftu values = 26.20\n",
            "Percentage of missing fluors values = 30.07\n",
            "Percentage of missing o2 values = 71.03\n",
            "Percentage of missing kd values = 70.98\n",
            "Percentage of missing par_0 values = 74.76\n",
            "Percentage of missing par_1 values = 63.33\n",
            "Percentage of missing par_2 values = 62.80\n",
            "Percentage of missing phase values = 12.19\n",
            "Percentage of missing surf_temp values = 0.00\n",
            "Percentage of missing surf_sal values = 0.00\n",
            "Percentage of missing solar values = 0.00\n",
            "Percentage of missing direct_solar values = 0.00\n",
            "temp             23070\n",
            "sal              40982\n",
            "ftu              44269\n",
            "fluors           50818\n",
            "o2              120031\n",
            "kd              119948\n",
            "par_0           126334\n",
            "par_1           107022\n",
            "par_2           106121\n",
            "phase            20592\n",
            "surf_temp            0\n",
            "surf_sal             0\n",
            "solar                0\n",
            "direct_solar         0\n",
            "dtype: int64\n"
          ]
        }
      ],
      "source": [
        "df = pd.read_csv('clean_data.csv', parse_dates = ['dateTime'])\n",
        "df = df.set_index('dateTime')\n",
        "#compute hourly rolling averages\n",
        "df['temp'] = df['temp'].rolling('1h').mean()\n",
        "df['sal'] = df['sal'].rolling('1h').mean()\n",
        "df['ftu'] = df['ftu'].rolling('1h').mean()\n",
        "df['fluors'] = df['fluors'].rolling('1h').mean()\n",
        "df['o2'] = df['o2'].rolling('1h').mean()\n",
        "df['kd'] = df['kd'].rolling('1h').mean()\n",
        "df['par_0'] = df['par_0'].rolling('1h').mean()\n",
        "df['par_1'] = df['par_1'].rolling('1h').mean()\n",
        "df['par_2'] = df['par_2'].rolling('1h').mean()\n",
        "#extract data which lands on the hour\n",
        "df = df[df.index.minute == 0]\n",
        "\n",
        "df1 = pd.read_csv('..\\CMEMS_Data\\CMEMS_SST_SSS.csv', parse_dates = ['Unnamed: 0'])\n",
        "df1 = df1.rename(columns = {'Unnamed: 0' : 'dateTime', 'CMEMS_SST' : 'surf_temp', 'CMEMS_SSS' : 'surf_sal'})\n",
        "df1 = df1.set_index('dateTime')\n",
        "df1 = df1['2002-08-28 14:00:00':'2019-12-07 15:00:00']\n",
        "df1\n",
        "\n",
        "df2 = pd.read_csv('..\\CMEMS_Data\\ERA5_solar.csv', parse_dates = ['Unnamed: 0'])\n",
        "df2 = df2.rename(columns = {'Unnamed: 0' : 'dateTime', 'SSR' : 'solar', 'SSRD' : 'direct_solar'})\n",
        "df2 = df2.set_index('dateTime')\n",
        "df2 = df2['2002-08-28 14:00:00':'2019-12-07 15:00:00']\n",
        "#at night the solar ratiation is negligible so we can set it to 0\n",
        "df2.loc[df2['solar'] < 0.0000001, 'solar'] = 0\n",
        "\n",
        "df = pd.merge(df, df1, how = 'outer', left_index = True, right_index = True)\n",
        "df = pd.merge(df, df2, how = 'outer', left_index = True, right_index = True)\n",
        "\n",
        "for col in df.columns:\n",
        "    print(f\"Percentage of missing {col} values = {100*df[col].isna().sum()/len(df) :.2f}\")\n",
        "\n",
        "\n",
        "df.describe()\n",
        "print(df.isna().sum())"
      ]
    }
  ],
  "metadata": {
    "colab": {
      "authorship_tag": "ABX9TyMk8H6rPq2AoWka/K+23rg3",
      "include_colab_link": true,
      "provenance": []
    },
    "kernelspec": {
      "display_name": "Python 3.9.12 ('base')",
      "language": "python",
      "name": "python3"
    },
    "language_info": {
      "codemirror_mode": {
        "name": "ipython",
        "version": 3
      },
      "file_extension": ".py",
      "mimetype": "text/x-python",
      "name": "python",
      "nbconvert_exporter": "python",
      "pygments_lexer": "ipython3",
      "version": "3.9.12"
    },
    "vscode": {
      "interpreter": {
        "hash": "ad2bdc8ecc057115af97d19610ffacc2b4e99fae6737bb82f5d7fb13d2f2c186"
      }
    }
  },
  "nbformat": 4,
  "nbformat_minor": 0
}

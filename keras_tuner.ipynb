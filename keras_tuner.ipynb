{
 "cells": [
  {
   "cell_type": "code",
   "execution_count": null,
   "metadata": {},
   "outputs": [],
   "source": [
    "import pandas as pd\n",
    "from kerastuner.tuners import RandomSearch\n",
    "from kerastuner.engine.hyperparameters import HyperParameters\n",
    "import time\n",
    "import keras\n",
    "from sklearn.model_selection import train_test_split\n",
    "from sklearn.metrics import mean_squared_error\n",
    "from sklearn.preprocessing import StandardScaler\n",
    "from math import sqrt\n",
    "from keras.models import Sequential\n",
    "from keras.layers import Dense, Dropout\n",
    "from keras.optimizers import *\n",
    "from keras.utils import np_utils\n",
    "LOG_DIR = f'../{int(time.time())}'\n",
    "\n",
    "df = pd.read_csv('d:\\My Drive\\Colab Notebooks\\DAV Assessment\\cefas_smartBuoy\\clean_ext_data.csv', parse_dates = ['dateTime'])\n",
    "df = df.set_index('dateTime')\n",
    "df = df.drop('kd', axis = 1)\n",
    "df = df.dropna()\n",
    "\n",
    "phase_0 = df.loc[df['phase'] == 0, :].copy()\n",
    "X = phase_0.drop(['fluors', 'phase'], axis = 1).copy()\n",
    "y = phase_0['fluors'].copy()\n",
    "X_train, X_test, y_train, y_test = train_test_split(X, y, test_size = 0.3, random_state = 42)\n",
    "\n",
    "scaler = StandardScaler()\n",
    "X_train = scaler.fit_transform(X_train)\n",
    "X_test = scaler.transform(X_test)\n",
    "X = scaler.transform(X)\n",
    "\n",
    "def build_model(hp):  # random search passes this hyperparameter() object \n",
    "    model = Sequential()\n",
    "    model.add(Dense(hp.Int('input_units', min_value = 50, max_value = 1000, step = 50), activation = \"relu\", input_shape = (4, )))\n",
    "    for i in range(hp.Int('n_layers', 1, 5)):\n",
    "        model.add(Dense(units = hp.Int(f'dense_layer_{i}_units', min_value = 50, max_value = 1000, step = 50), activation = \"relu\"))\n",
    "        model.add(Dropout(hp.Float(f'dropout_layer_{i}_%', min_value = 0.0, max_value = 0.4, step = 0.1)))\n",
    "    model.summary()\n",
    "    model.compile(loss = \"mean_squared_error\", optimizer = \"adam\", metrics = ['mean_squared_error'])\n",
    "    return model\n",
    "\n",
    "tuner = RandomSearch(\n",
    "    build_model,\n",
    "    objective = 'val_mean_squared_error',\n",
    "    max_trials = 50,  # how many model variations to test?\n",
    "    executions_per_trial = 1,  # how many trials per variation? (same model could perform differently)\n",
    "    directory = LOG_DIR)\n",
    "\n",
    "tuner.search(x = X_train,\n",
    "             y = y_train,\n",
    "             verbose = 1,\n",
    "             epochs = 4,\n",
    "             batch_size = 30,\n",
    "             validation_data = (X_test, y_test))\n"
   ]
  },
  {
   "cell_type": "code",
   "execution_count": null,
   "metadata": {},
   "outputs": [],
   "source": [
    "tuner.get_best_hyperparameters()[0].values"
   ]
  },
  {
   "cell_type": "code",
   "execution_count": null,
   "metadata": {},
   "outputs": [],
   "source": [
    "tuner.get_best_models()[0].summary()"
   ]
  }
 ],
 "metadata": {
  "kernelspec": {
   "display_name": "Python 3.9.12 ('base')",
   "language": "python",
   "name": "python3"
  },
  "language_info": {
   "codemirror_mode": {
    "name": "ipython",
    "version": 3
   },
   "file_extension": ".py",
   "mimetype": "text/x-python",
   "name": "python",
   "nbconvert_exporter": "python",
   "pygments_lexer": "ipython3",
   "version": "3.9.12"
  },
  "orig_nbformat": 4,
  "vscode": {
   "interpreter": {
    "hash": "ad2bdc8ecc057115af97d19610ffacc2b4e99fae6737bb82f5d7fb13d2f2c186"
   }
  }
 },
 "nbformat": 4,
 "nbformat_minor": 2
}

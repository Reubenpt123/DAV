{
 "cells": [
  {
   "cell_type": "code",
   "execution_count": 5,
   "metadata": {},
   "outputs": [
    {
     "name": "stdout",
     "output_type": "stream",
     "text": [
      "INFO:tensorflow:Oracle triggered exit\n"
     ]
    }
   ],
   "source": [
    "import pandas as pd\n",
    "from keras_tuner.tuners import RandomSearch\n",
    "from keras_tuner.engine.hyperparameters import HyperParameters\n",
    "import time\n",
    "import keras\n",
    "from sklearn.model_selection import train_test_split\n",
    "from sklearn.metrics import mean_squared_error\n",
    "from sklearn.preprocessing import StandardScaler\n",
    "from math import sqrt\n",
    "from keras.models import Sequential\n",
    "from keras.layers import Dense, Dropout\n",
    "from keras.optimizers import *\n",
    "from keras.utils import np_utils\n",
    "LOG_DIR = r'C:\\Users\\709583\\OneDrive - hull.ac.uk\\Data Analysis & Visualisation\\DAV Assessment\\keras_tuner' + str(int(time.time()))\n",
    "\n",
    "df = pd.read_csv('d:\\My Drive\\Colab Notebooks\\DAV Assessment\\cefas_smartBuoy\\clean_ext_data.csv', parse_dates = ['dateTime'])\n",
    "df = df.set_index('dateTime')\n",
    "df = df.drop('kd', axis = 1)\n",
    "df = df.dropna()\n",
    "\n",
    "phase_0 = df.loc[df['phase'] == 0, :].copy()\n",
    "X = phase_0.drop(['fluors', 'phase'], axis = 1).copy()\n",
    "y = phase_0['fluors'].copy()\n",
    "X_train, X_test, y_train, y_test = train_test_split(X, y, test_size = 0.3, random_state = 42)\n",
    "\n",
    "scaler = StandardScaler()\n",
    "X_train = scaler.fit_transform(X_train)\n",
    "X_test = scaler.transform(X_test)\n",
    "X = scaler.transform(X)\n",
    "\n",
    "def build_model(hp):  # random search passes this hyperparameter() object \n",
    "    model = Sequential()\n",
    "    model.add(Dense(hp.Int('input_units', min_value = 50, max_value = 1000, step = 50), activation = \"relu\", input_shape = (4, )))\n",
    "    for i in range(hp.Int('n_layers', 1, 5)):\n",
    "        model.add(Dense(units = hp.Int(f'dense_layer_{i}_units', min_value = 50, max_value = 1000, step = 50), activation = \"relu\"))\n",
    "        model.add(Dropout(hp.Float(f'dropout_layer_{i}_%', min_value = 0.0, max_value = 0.4, step = 0.1)))\n",
    "    #model.summary()\n",
    "    model.compile(loss = \"mean_squared_error\", optimizer = \"adam\", metrics = ['mean_squared_error'])\n",
    "    return model\n",
    "\n",
    "tuner = RandomSearch(\n",
    "    build_model,\n",
    "    objective = 'val_mean_squared_error',\n",
    "    max_trials = 2,  # how many model variations to test?\n",
    "    executions_per_trial = 1,  # how many trials per variation? (same model could perform differently)\n",
    "    directory = LOG_DIR)\n",
    "\n",
    "tuner.search(x = X_train,\n",
    "             y = y_train,\n",
    "             verbose = 0,\n",
    "             epochs = 1,\n",
    "             batch_size = 30,\n",
    "             validation_data = (X_test, y_test))"
   ]
  },
  {
   "cell_type": "code",
   "execution_count": 6,
   "metadata": {},
   "outputs": [
    {
     "data": {
      "text/plain": [
       "{'input_units': 350,\n",
       " 'n_layers': 3,\n",
       " 'dense_layer_0_units': 500,\n",
       " 'dropout_layer_0_%': 0.2,\n",
       " 'dense_layer_1_units': 700,\n",
       " 'dropout_layer_1_%': 0.2,\n",
       " 'dense_layer_2_units': 100,\n",
       " 'dropout_layer_2_%': 0.1,\n",
       " 'dense_layer_3_units': 50,\n",
       " 'dropout_layer_3_%': 0.30000000000000004,\n",
       " 'dense_layer_4_units': 550,\n",
       " 'dropout_layer_4_%': 0.2}"
      ]
     },
     "execution_count": 6,
     "metadata": {},
     "output_type": "execute_result"
    }
   ],
   "source": [
    "tuner.get_best_hyperparameters()[0].values"
   ]
  },
  {
   "cell_type": "code",
   "execution_count": 7,
   "metadata": {},
   "outputs": [
    {
     "name": "stdout",
     "output_type": "stream",
     "text": [
      "Model: \"sequential\"\n",
      "_________________________________________________________________\n",
      " Layer (type)                Output Shape              Param #   \n",
      "=================================================================\n",
      " dense (Dense)               (None, 350)               1750      \n",
      "                                                                 \n",
      " dense_1 (Dense)             (None, 500)               175500    \n",
      "                                                                 \n",
      " dropout (Dropout)           (None, 500)               0         \n",
      "                                                                 \n",
      " dense_2 (Dense)             (None, 700)               350700    \n",
      "                                                                 \n",
      " dropout_1 (Dropout)         (None, 700)               0         \n",
      "                                                                 \n",
      " dense_3 (Dense)             (None, 100)               70100     \n",
      "                                                                 \n",
      " dropout_2 (Dropout)         (None, 100)               0         \n",
      "                                                                 \n",
      "=================================================================\n",
      "Total params: 598,050\n",
      "Trainable params: 598,050\n",
      "Non-trainable params: 0\n",
      "_________________________________________________________________\n",
      "WARNING:tensorflow:Detecting that an object or model or tf.train.Checkpoint is being deleted with unrestored values. See the following logs for the specific values in question. To silence these warnings, use `status.expect_partial()`. See https://www.tensorflow.org/api_docs/python/tf/train/Checkpoint#restorefor details about the status object returned by the restore function.\n",
      "WARNING:tensorflow:Value in checkpoint could not be found in the restored object: (root).optimizer._variables.1\n",
      "WARNING:tensorflow:Value in checkpoint could not be found in the restored object: (root).optimizer._variables.2\n",
      "WARNING:tensorflow:Value in checkpoint could not be found in the restored object: (root).optimizer._variables.3\n",
      "WARNING:tensorflow:Value in checkpoint could not be found in the restored object: (root).optimizer._variables.4\n",
      "WARNING:tensorflow:Value in checkpoint could not be found in the restored object: (root).optimizer._variables.5\n",
      "WARNING:tensorflow:Value in checkpoint could not be found in the restored object: (root).optimizer._variables.6\n",
      "WARNING:tensorflow:Value in checkpoint could not be found in the restored object: (root).optimizer._variables.7\n",
      "WARNING:tensorflow:Value in checkpoint could not be found in the restored object: (root).optimizer._variables.8\n",
      "WARNING:tensorflow:Value in checkpoint could not be found in the restored object: (root).optimizer._variables.9\n",
      "WARNING:tensorflow:Value in checkpoint could not be found in the restored object: (root).optimizer._variables.10\n",
      "WARNING:tensorflow:Value in checkpoint could not be found in the restored object: (root).optimizer._variables.11\n",
      "WARNING:tensorflow:Value in checkpoint could not be found in the restored object: (root).optimizer._variables.12\n",
      "WARNING:tensorflow:Value in checkpoint could not be found in the restored object: (root).optimizer._variables.13\n",
      "WARNING:tensorflow:Value in checkpoint could not be found in the restored object: (root).optimizer._variables.14\n",
      "WARNING:tensorflow:Value in checkpoint could not be found in the restored object: (root).optimizer._variables.15\n",
      "WARNING:tensorflow:Value in checkpoint could not be found in the restored object: (root).optimizer._variables.16\n"
     ]
    }
   ],
   "source": [
    "tuner.get_best_models()[0].summary()"
   ]
  }
 ],
 "metadata": {
  "kernelspec": {
   "display_name": "Python 3.9.12 ('base')",
   "language": "python",
   "name": "python3"
  },
  "language_info": {
   "codemirror_mode": {
    "name": "ipython",
    "version": 3
   },
   "file_extension": ".py",
   "mimetype": "text/x-python",
   "name": "python",
   "nbconvert_exporter": "python",
   "pygments_lexer": "ipython3",
   "version": "3.9.12"
  },
  "orig_nbformat": 4,
  "vscode": {
   "interpreter": {
    "hash": "ad2bdc8ecc057115af97d19610ffacc2b4e99fae6737bb82f5d7fb13d2f2c186"
   }
  }
 },
 "nbformat": 4,
 "nbformat_minor": 2
}
